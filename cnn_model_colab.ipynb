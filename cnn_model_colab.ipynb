{
  "nbformat": 4,
  "nbformat_minor": 0,
  "metadata": {
    "colab": {
      "name": "cnn_model_colab.ipynb",
      "provenance": [],
      "collapsed_sections": []
    },
    "kernelspec": {
      "name": "python3",
      "display_name": "Python 3"
    },
    "accelerator": "GPU"
  },
  "cells": [
    {
      "cell_type": "code",
      "metadata": {
        "id": "bKYM_pGyTWXe",
        "colab_type": "code",
        "outputId": "d9297a38-e6a0-4cb0-8d3c-2277b5ceced0",
        "colab": {
          "base_uri": "https://localhost:8080/",
          "height": 50
        }
      },
      "source": [
        "!pip install python_speech_features\n",
        "!pip install python-dotenv "
      ],
      "execution_count": 2,
      "outputs": [
        {
          "output_type": "stream",
          "text": [
            "Requirement already satisfied: python_speech_features in /usr/local/lib/python3.6/dist-packages (0.6)\n",
            "Requirement already satisfied: python-dotenv in /usr/local/lib/python3.6/dist-packages (0.12.0)\n"
          ],
          "name": "stdout"
        }
      ]
    },
    {
      "cell_type": "code",
      "metadata": {
        "id": "xnbYpwQmb9vl",
        "colab_type": "code",
        "outputId": "4d517ab1-b5da-4b41-cc39-ab07609f1532",
        "colab": {
          "base_uri": "https://localhost:8080/",
          "height": 289
        }
      },
      "source": [
        "!pip install keras --upgrade"
      ],
      "execution_count": 3,
      "outputs": [
        {
          "output_type": "stream",
          "text": [
            "Collecting keras\n",
            "\u001b[?25l  Downloading https://files.pythonhosted.org/packages/ad/fd/6bfe87920d7f4fd475acd28500a42482b6b84479832bdc0fe9e589a60ceb/Keras-2.3.1-py2.py3-none-any.whl (377kB)\n",
            "\r\u001b[K     |▉                               | 10kB 25.6MB/s eta 0:00:01\r\u001b[K     |█▊                              | 20kB 3.0MB/s eta 0:00:01\r\u001b[K     |██▋                             | 30kB 4.4MB/s eta 0:00:01\r\u001b[K     |███▌                            | 40kB 2.9MB/s eta 0:00:01\r\u001b[K     |████▍                           | 51kB 3.6MB/s eta 0:00:01\r\u001b[K     |█████▏                          | 61kB 4.3MB/s eta 0:00:01\r\u001b[K     |██████                          | 71kB 4.9MB/s eta 0:00:01\r\u001b[K     |███████                         | 81kB 3.9MB/s eta 0:00:01\r\u001b[K     |███████▉                        | 92kB 4.3MB/s eta 0:00:01\r\u001b[K     |████████▊                       | 102kB 4.8MB/s eta 0:00:01\r\u001b[K     |█████████▌                      | 112kB 4.8MB/s eta 0:00:01\r\u001b[K     |██████████▍                     | 122kB 4.8MB/s eta 0:00:01\r\u001b[K     |███████████▎                    | 133kB 4.8MB/s eta 0:00:01\r\u001b[K     |████████████▏                   | 143kB 4.8MB/s eta 0:00:01\r\u001b[K     |█████████████                   | 153kB 4.8MB/s eta 0:00:01\r\u001b[K     |█████████████▉                  | 163kB 4.8MB/s eta 0:00:01\r\u001b[K     |██████████████▊                 | 174kB 4.8MB/s eta 0:00:01\r\u001b[K     |███████████████▋                | 184kB 4.8MB/s eta 0:00:01\r\u001b[K     |████████████████▌               | 194kB 4.8MB/s eta 0:00:01\r\u001b[K     |█████████████████▍              | 204kB 4.8MB/s eta 0:00:01\r\u001b[K     |██████████████████▏             | 215kB 4.8MB/s eta 0:00:01\r\u001b[K     |███████████████████             | 225kB 4.8MB/s eta 0:00:01\r\u001b[K     |████████████████████            | 235kB 4.8MB/s eta 0:00:01\r\u001b[K     |████████████████████▉           | 245kB 4.8MB/s eta 0:00:01\r\u001b[K     |█████████████████████▊          | 256kB 4.8MB/s eta 0:00:01\r\u001b[K     |██████████████████████▌         | 266kB 4.8MB/s eta 0:00:01\r\u001b[K     |███████████████████████▍        | 276kB 4.8MB/s eta 0:00:01\r\u001b[K     |████████████████████████▎       | 286kB 4.8MB/s eta 0:00:01\r\u001b[K     |█████████████████████████▏      | 296kB 4.8MB/s eta 0:00:01\r\u001b[K     |██████████████████████████      | 307kB 4.8MB/s eta 0:00:01\r\u001b[K     |██████████████████████████▉     | 317kB 4.8MB/s eta 0:00:01\r\u001b[K     |███████████████████████████▊    | 327kB 4.8MB/s eta 0:00:01\r\u001b[K     |████████████████████████████▋   | 337kB 4.8MB/s eta 0:00:01\r\u001b[K     |█████████████████████████████▌  | 348kB 4.8MB/s eta 0:00:01\r\u001b[K     |██████████████████████████████▍ | 358kB 4.8MB/s eta 0:00:01\r\u001b[K     |███████████████████████████████▏| 368kB 4.8MB/s eta 0:00:01\r\u001b[K     |████████████████████████████████| 378kB 4.8MB/s \n",
            "\u001b[?25hRequirement already satisfied, skipping upgrade: keras-applications>=1.0.6 in /usr/local/lib/python3.6/dist-packages (from keras) (1.0.8)\n",
            "Requirement already satisfied, skipping upgrade: scipy>=0.14 in /usr/local/lib/python3.6/dist-packages (from keras) (1.4.1)\n",
            "Requirement already satisfied, skipping upgrade: six>=1.9.0 in /usr/local/lib/python3.6/dist-packages (from keras) (1.12.0)\n",
            "Requirement already satisfied, skipping upgrade: numpy>=1.9.1 in /usr/local/lib/python3.6/dist-packages (from keras) (1.18.2)\n",
            "Requirement already satisfied, skipping upgrade: pyyaml in /usr/local/lib/python3.6/dist-packages (from keras) (3.13)\n",
            "Requirement already satisfied, skipping upgrade: h5py in /usr/local/lib/python3.6/dist-packages (from keras) (2.10.0)\n",
            "Requirement already satisfied, skipping upgrade: keras-preprocessing>=1.0.5 in /usr/local/lib/python3.6/dist-packages (from keras) (1.1.0)\n",
            "Installing collected packages: keras\n",
            "  Found existing installation: Keras 2.2.5\n",
            "    Uninstalling Keras-2.2.5:\n",
            "      Successfully uninstalled Keras-2.2.5\n",
            "Successfully installed keras-2.3.1\n"
          ],
          "name": "stdout"
        }
      ]
    },
    {
      "cell_type": "code",
      "metadata": {
        "id": "jcPEqN0nU5yc",
        "colab_type": "code",
        "colab": {}
      },
      "source": [
        "# !pip list librosa"
      ],
      "execution_count": 0,
      "outputs": []
    },
    {
      "cell_type": "code",
      "metadata": {
        "id": "jnRPrBVPP2lj",
        "colab_type": "code",
        "colab": {
          "base_uri": "https://localhost:8080/",
          "height": 34
        },
        "outputId": "f892418d-aca6-4a1d-e509-74743fd9fd45"
      },
      "source": [
        "import numpy as np\n",
        "import pandas as pd\n",
        "from python_speech_features import mfcc\n",
        "import os\n",
        "# import tensorflow as tf\n",
        "from keras import layers\n",
        "from keras import models\n",
        "import keras\n",
        "from keras import optimizers\n",
        "from keras import regularizers\n",
        "from sklearn.preprocessing import LabelEncoder, LabelBinarizer\n",
        "import sys\n",
        "sys.path.append('/content/drive/My Drive/cs577- Deep learning/deepMusic/')\n",
        "import utils\n",
        "from sklearn import preprocessing\n",
        "import librosa\n",
        "import matplotlib.pyplot as plt\n",
        "import librosa.display\n",
        "# config = tf.compat.v1.ConfigProto()\n",
        "# config.gpu_options.allow_growth = True\n",
        "# sess = tf.compat.v1.Session(config=config)\n",
        "\n"
      ],
      "execution_count": 3,
      "outputs": [
        {
          "output_type": "stream",
          "text": [
            "Using TensorFlow backend.\n"
          ],
          "name": "stderr"
        }
      ]
    },
    {
      "cell_type": "code",
      "metadata": {
        "id": "1TUdItkeSTiX",
        "colab_type": "code",
        "colab": {}
      },
      "source": [
        "class DataGenerator(keras.utils.Sequence):\n",
        "    'Generates data for Keras'\n",
        "\n",
        "    def __init__(self, list_IDs, labels, loader, audio_dir, batch_size=32, dim=(32, 32, 32), n_channels=1,\n",
        "                 n_classes=10, shuffle=True):\n",
        "        'Initialization'\n",
        "        self.dim = dim\n",
        "        self.batch_size = batch_size\n",
        "        self.labels = labels\n",
        "        self.list_IDs = list_IDs\n",
        "        self.n_channels = n_channels\n",
        "        self.n_classes = n_classes\n",
        "        self.shuffle = shuffle\n",
        "        self.on_epoch_end()\n",
        "        self.loader = loader\n",
        "        self.audio_dir = audio_dir\n",
        "\n",
        "    def __len__(self):\n",
        "        'Denotes the number of batches per epoch'\n",
        "        return int(np.floor(len(self.list_IDs) / self.batch_size))\n",
        "\n",
        "    def __getitem__(self, index):\n",
        "        'Generate one batch of data'\n",
        "        # Generate indexes of the batch\n",
        "        indexes = self.indexes[index * self.batch_size:(index + 1) * self.batch_size]\n",
        "\n",
        "        # Find list of IDs\n",
        "        list_IDs_temp = [self.list_IDs[k] for k in indexes]\n",
        "        # print(list_IDs_temp)\n",
        "\n",
        "        # Generate data\n",
        "        X, y = self.__data_generation(list_IDs_temp)\n",
        "\n",
        "        return X, y\n",
        "\n",
        "    def on_epoch_end(self):\n",
        "        'Updates indexes after each epoch'\n",
        "        self.indexes = np.arange(len(self.list_IDs))\n",
        "        if self.shuffle == True:\n",
        "            np.random.shuffle(self.indexes)\n",
        "\n",
        "    def __data_generation(self, list_IDs_temp):\n",
        "        'Generates data containing batch_size samples'  # X : (n_samples, *dim, n_channels)\n",
        "        # Initialization\n",
        "        X = np.empty((self.batch_size, *self.dim, self.n_channels))\n",
        "        y = np.empty((self.batch_size), dtype=int)\n",
        "\n",
        "        # Generate data\n",
        "        for i, ID in enumerate(list_IDs_temp):\n",
        "            # # Store sample\n",
        "            # signal, rate = self.loader.load(utils.get_audio_path(self.audio_dir, ID))\n",
        "            # sample = signal[:rate]\n",
        "            \n",
        "            # # Shorten the sample to 10 secs\n",
        "            # ran_index = np.random.randint(0, signal.shape[0] - int(rate / 10))\n",
        "            # sample = signal[ran_index:ran_index + int(rate / 10)]\n",
        "            # # print(f'shape of sample -> {sample.shape}')\n",
        "\n",
        "            # normalized_X = preprocessing.normalize(mfcc(sample, rate, numcep=13, nfilt=26, nfft=1103).T)\n",
        "            # temp = np.array(normalized_X)\n",
        "            # rshaped_X = temp.reshape(temp.shape[0], temp.shape[1], 1)\n",
        "            # X[i,] = rshaped_X\n",
        "\n",
        "            # Librosa version mel spectrogram\n",
        "            signal, sr = self.loader.load(utils.get_audio_path(self.audio_dir, ID))\n",
        "            signal = signal.astype(float)\n",
        "            # Shorten the sample to 10 secs\n",
        "            ran_index = np.random.randint(0, signal.shape[0] - int(sr / 1))\n",
        "            sample = signal[ran_index:ran_index + int(sr / 1)]\n",
        "            # print(sr)\n",
        "            spect = librosa.feature.melspectrogram(y=sample, sr=sr, n_mels=64,fmax=8000)\n",
        "            \n",
        "            # plt.figure(figsize=(10, 5))\n",
        "            # librosa.display.specshow(spect.T, y_axis='mel', x_axis='time')\n",
        "            # plt.colorbar(format='%+2.0f dB')\n",
        "            # plt.title('Test Melspectogram')\n",
        "            # plt.show()\n",
        "\n",
        "            temp = np.array(spect)\n",
        "            rshaped_X = temp.reshape(temp.shape[0], temp.shape[1], 1)\n",
        "            X[i,] = rshaped_X\n",
        "\n",
        "            # X[i,] = np.array(spect)\n",
        "\n",
        "            # Store class\n",
        "            y[i] = self.labels.loc[ID].to_numpy()\n",
        "\n",
        "        return X, keras.utils.to_categorical(y, num_classes=self.n_classes)\n"
      ],
      "execution_count": 0,
      "outputs": []
    },
    {
      "cell_type": "code",
      "metadata": {
        "id": "t2J3kgdVUaaB",
        "colab_type": "code",
        "colab": {}
      },
      "source": [
        "def plot_mel_spect(loader,audio_dir,ID):\n",
        "    signal, sr = loader.load(utils.get_audio_path(audio_dir, ID))\n",
        "    signal = signal.astype(float)\n",
        "    # Shorten the sample to 10 secs\n",
        "    ran_index = np.random.randint(0, signal.shape[0] - int(sr / 1))\n",
        "    sample = signal[ran_index:ran_index + int(sr / 1)]\n",
        "    spect = librosa.feature.melspectrogram(y=sample, sr=sr, n_mels=64,fmax=8000)\n",
        "    \n",
        "    plt.figure(figsize=(10, 5))\n",
        "    librosa.display.specshow(spect.T, y_axis='mel', x_axis='time')\n",
        "    plt.colorbar(format='%+2.0f dB')\n",
        "    plt.title('Test Melspectogram')\n",
        "    plt.show()"
      ],
      "execution_count": 0,
      "outputs": []
    },
    {
      "cell_type": "code",
      "metadata": {
        "id": "Gp7np9sznbD_",
        "colab_type": "code",
        "colab": {
          "base_uri": "https://localhost:8080/",
          "height": 535
        },
        "outputId": "2f8e3c1e-4515-479b-dfaa-f0e2dde04ced"
      },
      "source": [
        "# # Train and Validate\n",
        "ff_loader = utils.FfmpegLoader()\n",
        "\n",
        "# Plot mel spect for audio file with ID 2\n",
        "plot_mel_spect(ff_loader,AUDIO_DIR,2)\n",
        "\n",
        "# METHOD 2 - DATAGENERATOR\n",
        "# Parameters\n",
        "params = {'dim': (64, 87),\n",
        "          'batch_size': 10,\n",
        "          'n_classes': 8,\n",
        "          'n_channels': 1,\n",
        "          'shuffle': True}\n",
        "training_generator = DataGenerator(train.index.values, labels_onehot,ff_loader, AUDIO_DIR, **params)\n",
        "x , y = training_generator.__getitem__(0)\n",
        "print(x.shape)\n",
        "# print(train.loc[ID]['track_genre_top'])\n",
        "print(y)"
      ],
      "execution_count": 25,
      "outputs": [
        {
          "output_type": "display_data",
          "data": {
            "image/png": "[encoded data removed]",
            "text/plain": [
              "<Figure size 720x360 with 2 Axes>"
            ]
          },
          "metadata": {
            "tags": []
          }
        },
        {
          "output_type": "stream",
          "text": [
            "(10, 64, 87, 1)\n",
            "[[0. 0. 0. 0. 0. 1. 0. 0.]\n",
            " [0. 0. 1. 0. 0. 0. 0. 0.]\n",
            " [0. 0. 0. 0. 0. 0. 0. 1.]\n",
            " [0. 0. 0. 0. 0. 0. 1. 0.]\n",
            " [0. 0. 0. 0. 0. 1. 0. 0.]\n",
            " [0. 1. 0. 0. 0. 0. 0. 0.]\n",
            " [0. 0. 0. 0. 0. 0. 1. 0.]\n",
            " [0. 1. 0. 0. 0. 0. 0. 0.]\n",
            " [0. 0. 1. 0. 0. 0. 0. 0.]\n",
            " [0. 0. 1. 0. 0. 0. 0. 0.]]\n"
          ],
          "name": "stdout"
        }
      ]
    },
    {
      "cell_type": "code",
      "metadata": {
        "id": "aNABix_hQG6H",
        "colab_type": "code",
        "outputId": "f5a8052d-c96a-4bc5-e94a-bb7767460479",
        "colab": {
          "base_uri": "https://localhost:8080/",
          "height": 319
        }
      },
      "source": [
        "\n",
        "# print(keras.__version__)\n",
        "root_folder = \"/content/drive/My Drive/cs577- Deep learning/deepMusic/\"\n",
        "AUDIO_DIR = root_folder + 'fma_small'\n",
        "\n",
        "# Read data\n",
        "tracks = pd.read_csv(root_folder+'fma_metadata/subset_small.csv', index_col=0)\n",
        "print(tracks['set_split'].shape)\n",
        "train = tracks.loc[tracks['set_split'] == 'training']\n",
        "val = tracks.loc[tracks['set_split'] == 'validation']\n",
        "test = tracks.loc[tracks['set_split'] == 'test']\n",
        "print(f'train -> {train.columns}')\n",
        "\n"
      ],
      "execution_count": 7,
      "outputs": [
        {
          "output_type": "stream",
          "text": [
            "(7995,)\n",
            "train -> Index(['album_comments', 'album_date_created', 'album_date_released',\n",
            "       'album_engineer', 'album_favorites', 'album_id', 'album_information',\n",
            "       'album_listens', 'album_producer', 'album_tags', 'album_title',\n",
            "       'album_tracks', 'album_type', 'artist_active_year_begin',\n",
            "       'artist_active_year_end', 'artist_associated_labels', 'artist_bio',\n",
            "       'artist_comments', 'artist_date_created', 'artist_favorites',\n",
            "       'artist_id', 'artist_latitude', 'artist_location', 'artist_longitude',\n",
            "       'artist_members', 'artist_name', 'artist_related_projects',\n",
            "       'artist_tags', 'artist_website', 'artist_wikipedia_page', 'set_split',\n",
            "       'set_subset', 'track_bit_rate', 'track_comments', 'track_composer',\n",
            "       'track_date_created', 'track_date_recorded', 'track_duration',\n",
            "       'track_favorites', 'track_genre_top', 'track_genres',\n",
            "       'track_genres_all', 'track_information', 'track_interest',\n",
            "       'track_language_code', 'track_license', 'track_listens',\n",
            "       'track_lyricist', 'track_number', 'track_publisher', 'track_tags',\n",
            "       'track_title'],\n",
            "      dtype='object')\n"
          ],
          "name": "stdout"
        }
      ]
    },
    {
      "cell_type": "code",
      "metadata": {
        "id": "UwiYWOcZRcxL",
        "colab_type": "code",
        "outputId": "0395d3e7-0c31-40c7-c13c-294a6099c37c",
        "colab": {
          "base_uri": "https://localhost:8080/",
          "height": 168
        }
      },
      "source": [
        "\n",
        "# Check which genres are present\n",
        "genres = list(LabelEncoder().fit(train['track_genre_top']).classes_)\n",
        "print('Top genres ({}): {}'.format(len(genres), genres))\n",
        "\n",
        "# one hot encode y\n",
        "# labels_onehot = LabelBinarizer().fit_transform(tracks['track_genre_top'])\n",
        "# labels_onehot = pd.DataFrame(labels_onehot, index=tracks.index)\n",
        "# print(f'labels_onehot -> {labels_onehot.head()}')\n",
        "\n",
        "labels_onehot = np.asarray(LabelEncoder().fit_transform(tracks['track_genre_top']))\n",
        "labels_onehot = pd.DataFrame(labels_onehot, index=tracks.index)\n",
        "print(f'labels_onehot -> {labels_onehot.head()}')\n",
        "# print(f'label type {labels_onehot.shape}')\n",
        "\n",
        "# For local training purposes\n",
        "train = train.head(100)\n",
        "val = val.head(100)\n",
        "test = test.head(100)\n",
        "print(f'test.index.values -> {len(test.index.values)}')\n"
      ],
      "execution_count": 8,
      "outputs": [
        {
          "output_type": "stream",
          "text": [
            "Top genres (8): ['Electronic', 'Experimental', 'Folk', 'Hip-Hop', 'Instrumental', 'International', 'Pop', 'Rock']\n",
            "labels_onehot ->           0\n",
            "track_id   \n",
            "2         3\n",
            "5         3\n",
            "10        6\n",
            "140       2\n",
            "141       2\n",
            "test.index.values -> 100\n"
          ],
          "name": "stdout"
        }
      ]
    },
    {
      "cell_type": "code",
      "metadata": {
        "id": "wVYnJESrR_j2",
        "colab_type": "code",
        "colab": {}
      },
      "source": [
        "\n",
        "def gen_model():\n",
        "  # Input shape is this because 13->numcep in mfcc function and 9 -> number of frames considered\n",
        "  # input_shape = (13, 9, 1)\n",
        "  input_shape = (64, 87, 1)\n",
        "\n",
        "  # Network Architecture\n",
        "  # tf.keras.backend.clear_session()\n",
        "\n",
        "  model = models.Sequential()\n",
        "\n",
        "  model.add(layers.Conv2D(16, (3, 3), activation='relu',\n",
        "                          strides=(1, 1), padding='same',\n",
        "                          input_shape=input_shape))\n",
        "  model.add(layers.Conv2D(32, (3, 3), activation='relu',\n",
        "                          strides=(1, 1), padding='same',\n",
        "                          ))\n",
        "  model.add(layers.MaxPool2D(2, 2))\n",
        "  model.add(layers.Dropout(0.5))\n",
        "  model.add(layers.Flatten())\n",
        "  model.add(layers.Dense(128, activation='relu'))\n",
        "  model.add(layers.Dense(64, activation='relu'))\n",
        "  model.add(layers.Dense(8, activation='softmax'))\n",
        "  model.summary()\n",
        "\n",
        "  # optimizer = optimizers.SGD(lr=0.1, momentum=0.9, nesterov=True)\n",
        "  optimizer = optimizers.Adam(lr=0.01)\n",
        "  model.compile(optimizer, loss='categorical_crossentropy', metrics=['acc'])\n",
        "  return model\n",
        "\n"
      ],
      "execution_count": 0,
      "outputs": []
    },
    {
      "cell_type": "code",
      "metadata": {
        "id": "Pk-7MTIuSK-Y",
        "colab_type": "code",
        "colab": {}
      },
      "source": [
        "\n",
        "# # Train and Validate\n",
        "ff_loader = utils.FfmpegLoader()\n",
        "\n",
        "# METHOD 2 - DATAGENERATOR\n",
        "# Parameters\n",
        "params = {'dim': (13, 9),\n",
        "          'batch_size': 10,\n",
        "          'n_classes': 8,\n",
        "          'n_channels': 1,\n",
        "          'shuffle': True}\n"
      ],
      "execution_count": 0,
      "outputs": []
    },
    {
      "cell_type": "code",
      "metadata": {
        "id": "8vs1X2R3d_E1",
        "colab_type": "code",
        "colab": {}
      },
      "source": [
        "\n",
        "def plot_epocs_graph(history_dict):\n",
        "    loss_vals = history_dict['loss']\n",
        "    val_loss_vals = history_dict['val_loss']\n",
        "    epochs = range(1, len(history_dict['acc']) + 1)\n",
        "    plt.subplot(1, 2, 1)\n",
        "    plt.plot(epochs, loss_vals, 'g', label='Training Loss')\n",
        "    plt.plot(epochs, val_loss_vals, 'b', label='Validation Loss')\n",
        "    plt.title(\"Training and validation loss\")\n",
        "    plt.xlabel('Epochs')\n",
        "    plt.ylabel('Loss')\n",
        "    plt.legend()\n",
        "\n",
        "    plt.subplot(1, 2, 2)\n",
        "    acc_vals = history_dict['acc']\n",
        "    val_acc_vals = history_dict['val_acc']\n",
        "    plt.plot(epochs, acc_vals, 'g', label='Training accuracy')\n",
        "    plt.plot(epochs, val_acc_vals, 'b', label='Validation accuracy')\n",
        "    plt.title(\"Training and validation Accuracy\")\n",
        "    plt.xlabel('Epochs')\n",
        "    plt.ylabel('Loss')\n",
        "    plt.legend()\n",
        "    # plt.savefig(\"../doc/graphs/val_loss_acc_epochs_before1_task2.png\")\n",
        "    # plt.savefig(\"../doc/graphs/val_loss_acc_epochs_after1_task2.png\")\n",
        "    plt.show()\n",
        "    return"
      ],
      "execution_count": 0,
      "outputs": []
    },
    {
      "cell_type": "code",
      "metadata": {
        "id": "az2xoihAdg-H",
        "colab_type": "code",
        "colab": {
          "base_uri": "https://localhost:8080/",
          "height": 50
        },
        "outputId": "97241550-703d-4115-9284-a48349ba9a98"
      },
      "source": [
        "import tensorflow as tf\n",
        "import keras.backend.tensorflow_backend as tfback\n",
        "print(\"tf.__version__ is\", tf.__version__)\n",
        "print(\"tf.keras.__version__ is:\", tf.keras.__version__)\n",
        "\n",
        "def _get_available_gpus():\n",
        "    \"\"\"Get a list of available gpu devices (formatted as strings).\n",
        "\n",
        "    # Returns\n",
        "        A list of available GPU devices.\n",
        "    \"\"\"\n",
        "    #global _LOCAL_DEVICES\n",
        "    if tfback._LOCAL_DEVICES is None:\n",
        "        devices = tf.config.list_logical_devices()\n",
        "        tfback._LOCAL_DEVICES = [x.name for x in devices]\n",
        "    return [x for x in tfback._LOCAL_DEVICES if 'device:gpu' in x.lower()]\n",
        "\n",
        "tfback._get_available_gpus = _get_available_gpus"
      ],
      "execution_count": 18,
      "outputs": [
        {
          "output_type": "stream",
          "text": [
            "tf.__version__ is 2.2.0-rc2\n",
            "tf.keras.__version__ is: 2.3.0-tf\n"
          ],
          "name": "stdout"
        }
      ]
    },
    {
      "cell_type": "code",
      "metadata": {
        "id": "thaLUsaWSQBb",
        "colab_type": "code",
        "outputId": "27e7d468-ec73-4afc-c85d-4d2c437894d6",
        "colab": {
          "base_uri": "https://localhost:8080/",
          "height": 1000
        }
      },
      "source": [
        "# cnn\n",
        "# model = gen_model()\n",
        "\n",
        "# CRNN\n",
        "# input_shape = (64,18,1)\n",
        "# model_input = layers.Input(input_shape, name='input')\n",
        "# model = conv_recurrent_model_build(model_input,input_shape)\n",
        "\n",
        "# CNN by mdeff\n",
        "# input_shape = (64,18,1)\n",
        "# model = getMdeff_model(input_shape)\n",
        "\n",
        "# Another trial\n",
        "model = MusicTaggerCNN(weights=None, input_tensor=(64,87,1))\n",
        "model.compile(loss='categorical_crossentropy',\n",
        "              optimizer='adam',\n",
        "              metrics=['accuracy'])\n",
        "# model.load_weights(\"/content/crnn_net_gru_adam_ours_epoch_40.h5\")\n",
        "model.summary()\n",
        "\n",
        "\n",
        "\n",
        "# Generators\n",
        "training_generator = DataGenerator(train.index.values, labels_onehot,ff_loader,AUDIO_DIR, **params)\n",
        "validation_generator = DataGenerator(val.index.values, labels_onehot,ff_loader,AUDIO_DIR, **params)\n",
        "test_generator = DataGenerator(test.index.values, labels_onehot,ff_loader,AUDIO_DIR, **params)\n",
        "\n",
        "# Train model on dataset\n",
        "train_val_history = model.fit_generator(generator=training_generator,\n",
        "                    validation_data=validation_generator,\n",
        "                    epochs=5,\n",
        "                    # steps_per_epoch = 20,\n",
        "                    use_multiprocessing=True, workers=1)\n",
        "history_dict = train_val_history.history\n",
        "plot_epocs_graph(history_dict=history_dict)"
      ],
      "execution_count": 26,
      "outputs": [
        {
          "output_type": "stream",
          "text": [
            "/usr/local/lib/python3.6/dist-packages/ipykernel_launcher.py:63: UserWarning: Update your `Conv2D` call to the Keras 2 API: `Conv2D(32, (3, 3), name=\"conv1\", trainable=False, padding=\"same\")`\n",
            "/usr/local/lib/python3.6/dist-packages/ipykernel_launcher.py:64: UserWarning: Update your `BatchNormalization` call to the Keras 2 API: `BatchNormalization(axis=3, name=\"bn1\", trainable=False)`\n",
            "/usr/local/lib/python3.6/dist-packages/ipykernel_launcher.py:69: UserWarning: Update your `Conv2D` call to the Keras 2 API: `Conv2D(128, (3, 3), name=\"conv2\", trainable=False, padding=\"same\")`\n",
            "/usr/local/lib/python3.6/dist-packages/ipykernel_launcher.py:70: UserWarning: Update your `BatchNormalization` call to the Keras 2 API: `BatchNormalization(axis=3, name=\"bn2\", trainable=False)`\n",
            "/usr/local/lib/python3.6/dist-packages/ipykernel_launcher.py:75: UserWarning: Update your `Conv2D` call to the Keras 2 API: `Conv2D(128, (3, 3), name=\"conv3\", trainable=False, padding=\"same\")`\n",
            "/usr/local/lib/python3.6/dist-packages/ipykernel_launcher.py:76: UserWarning: Update your `BatchNormalization` call to the Keras 2 API: `BatchNormalization(axis=3, name=\"bn3\", trainable=False)`\n"
          ],
          "name": "stderr"
        },
        {
          "output_type": "stream",
          "text": [
            "Model: \"model_4\"\n",
            "_________________________________________________________________\n",
            "Layer (type)                 Output Shape              Param #   \n",
            "=================================================================\n",
            "input_5 (InputLayer)         (None, 64, 87, 1)         0         \n",
            "_________________________________________________________________\n",
            "bn_0_freq (BatchNormalizatio (None, 64, 87, 1)         256       \n",
            "_________________________________________________________________\n",
            "conv1 (Conv2D)               (None, 64, 87, 32)        320       \n",
            "_________________________________________________________________\n",
            "bn1 (BatchNormalization)     (None, 64, 87, 32)        128       \n",
            "_________________________________________________________________\n",
            "elu_10 (ELU)                 (None, 64, 87, 32)        0         \n",
            "_________________________________________________________________\n",
            "pool1 (MaxPooling2D)         (None, 32, 21, 32)        0         \n",
            "_________________________________________________________________\n",
            "conv2 (Conv2D)               (None, 32, 21, 128)       36992     \n",
            "_________________________________________________________________\n",
            "bn2 (BatchNormalization)     (None, 32, 21, 128)       512       \n",
            "_________________________________________________________________\n",
            "elu_11 (ELU)                 (None, 32, 21, 128)       0         \n",
            "_________________________________________________________________\n",
            "pool2 (MaxPooling2D)         (None, 16, 5, 128)        0         \n",
            "_________________________________________________________________\n",
            "conv3 (Conv2D)               (None, 16, 5, 128)        147584    \n",
            "_________________________________________________________________\n",
            "bn3 (BatchNormalization)     (None, 16, 5, 128)        512       \n",
            "_________________________________________________________________\n",
            "elu_12 (ELU)                 (None, 16, 5, 128)        0         \n",
            "_________________________________________________________________\n",
            "pool3 (MaxPooling2D)         (None, 8, 1, 128)         0         \n",
            "_________________________________________________________________\n",
            "Flatten_1 (Flatten)          (None, 1024)              0         \n",
            "_________________________________________________________________\n",
            "output (Dense)               (None, 8)                 8200      \n",
            "=================================================================\n",
            "Total params: 194,504\n",
            "Trainable params: 8,200\n",
            "Non-trainable params: 186,304\n",
            "_________________________________________________________________\n",
            "Epoch 1/5\n",
            "10/10 [==============================] - 30s 3s/step - loss: 2.6337 - accuracy: 0.2700 - val_loss: 12925811712.0000 - val_accuracy: 0.1000\n",
            "Epoch 1/5\n",
            "Epoch 2/5\n",
            "10/10 [==============================] - 30s 3s/step - loss: 2.1523 - accuracy: 0.3300 - val_loss: 13544530944.0000 - val_accuracy: 0.1400\n",
            "Epoch 3/5\n",
            "10/10 [==============================] - 30s 3s/step - loss: 1.9862 - accuracy: 0.3600 - val_loss: 5631875584.0000 - val_accuracy: 0.1700\n",
            "Epoch 4/5\n",
            "10/10 [==============================] - 30s 3s/step - loss: 1.6155 - accuracy: 0.4200 - val_loss: 6628022784.0000 - val_accuracy: 0.2600\n",
            "Epoch 5/5\n",
            "10/10 [==============================] - 30s 3s/step - loss: 1.7436 - accuracy: 0.4300 - val_loss: 16245063680.0000 - val_accuracy: 0.1900\n"
          ],
          "name": "stdout"
        },
        {
          "output_type": "error",
          "ename": "KeyError",
          "evalue": "ignored",
          "traceback": [
            "\u001b[0;31m---------------------------------------------------------------------------\u001b[0m",
            "\u001b[0;31mKeyError\u001b[0m                                  Traceback (most recent call last)",
            "\u001b[0;32m<ipython-input-26-8e53ef33e582>\u001b[0m in \u001b[0;36m<module>\u001b[0;34m()\u001b[0m\n\u001b[1;32m     20\u001b[0m                     use_multiprocessing=True, workers=1)\n\u001b[1;32m     21\u001b[0m \u001b[0mhistory_dict\u001b[0m \u001b[0;34m=\u001b[0m \u001b[0mtrain_val_history\u001b[0m\u001b[0;34m.\u001b[0m\u001b[0mhistory\u001b[0m\u001b[0;34m\u001b[0m\u001b[0;34m\u001b[0m\u001b[0m\n\u001b[0;32m---> 22\u001b[0;31m \u001b[0mplot_epocs_graph\u001b[0m\u001b[0;34m(\u001b[0m\u001b[0mhistory_dict\u001b[0m\u001b[0;34m=\u001b[0m\u001b[0mhistory_dict\u001b[0m\u001b[0;34m)\u001b[0m\u001b[0;34m\u001b[0m\u001b[0;34m\u001b[0m\u001b[0m\n\u001b[0m",
            "\u001b[0;32m<ipython-input-10-f7184c0b5190>\u001b[0m in \u001b[0;36mplot_epocs_graph\u001b[0;34m(history_dict)\u001b[0m\n\u001b[1;32m      3\u001b[0m     \u001b[0mloss_vals\u001b[0m \u001b[0;34m=\u001b[0m \u001b[0mhistory_dict\u001b[0m\u001b[0;34m[\u001b[0m\u001b[0;34m'loss'\u001b[0m\u001b[0;34m]\u001b[0m\u001b[0;34m\u001b[0m\u001b[0;34m\u001b[0m\u001b[0m\n\u001b[1;32m      4\u001b[0m     \u001b[0mval_loss_vals\u001b[0m \u001b[0;34m=\u001b[0m \u001b[0mhistory_dict\u001b[0m\u001b[0;34m[\u001b[0m\u001b[0;34m'val_loss'\u001b[0m\u001b[0;34m]\u001b[0m\u001b[0;34m\u001b[0m\u001b[0;34m\u001b[0m\u001b[0m\n\u001b[0;32m----> 5\u001b[0;31m     \u001b[0mepochs\u001b[0m \u001b[0;34m=\u001b[0m \u001b[0mrange\u001b[0m\u001b[0;34m(\u001b[0m\u001b[0;36m1\u001b[0m\u001b[0;34m,\u001b[0m \u001b[0mlen\u001b[0m\u001b[0;34m(\u001b[0m\u001b[0mhistory_dict\u001b[0m\u001b[0;34m[\u001b[0m\u001b[0;34m'acc'\u001b[0m\u001b[0;34m]\u001b[0m\u001b[0;34m)\u001b[0m \u001b[0;34m+\u001b[0m \u001b[0;36m1\u001b[0m\u001b[0;34m)\u001b[0m\u001b[0;34m\u001b[0m\u001b[0;34m\u001b[0m\u001b[0m\n\u001b[0m\u001b[1;32m      6\u001b[0m     \u001b[0mplt\u001b[0m\u001b[0;34m.\u001b[0m\u001b[0msubplot\u001b[0m\u001b[0;34m(\u001b[0m\u001b[0;36m1\u001b[0m\u001b[0;34m,\u001b[0m \u001b[0;36m2\u001b[0m\u001b[0;34m,\u001b[0m \u001b[0;36m1\u001b[0m\u001b[0;34m)\u001b[0m\u001b[0;34m\u001b[0m\u001b[0;34m\u001b[0m\u001b[0m\n\u001b[1;32m      7\u001b[0m     \u001b[0mplt\u001b[0m\u001b[0;34m.\u001b[0m\u001b[0mplot\u001b[0m\u001b[0;34m(\u001b[0m\u001b[0mepochs\u001b[0m\u001b[0;34m,\u001b[0m \u001b[0mloss_vals\u001b[0m\u001b[0;34m,\u001b[0m \u001b[0;34m'g'\u001b[0m\u001b[0;34m,\u001b[0m \u001b[0mlabel\u001b[0m\u001b[0;34m=\u001b[0m\u001b[0;34m'Training Loss'\u001b[0m\u001b[0;34m)\u001b[0m\u001b[0;34m\u001b[0m\u001b[0;34m\u001b[0m\u001b[0m\n",
            "\u001b[0;31mKeyError\u001b[0m: 'acc'"
          ]
        }
      ]
    },
    {
      "cell_type": "code",
      "metadata": {
        "id": "KF58iBAAM5V3",
        "colab_type": "code",
        "colab": {}
      },
      "source": [
        "def getMdeff_model(input_shape):\n",
        "  model = models.Sequential()\n",
        "  # model.add(layers.Reshape((-1, 1), input_shape=input_shape))\n",
        "  # print(model.output_shape)\n",
        "\n",
        "  model.add(layers.Conv1D(128, 512, subsample_length=512,input_shape=input_shape))\n",
        "  # print(model.output_shape)\n",
        "  model.add(layers.Activation(\"relu\"))\n",
        "\n",
        "  model.add(layers.Conv1D(32, 8))\n",
        "  # print(model.output_shape)\n",
        "  model.add(layers.Activation(\"relu\"))\n",
        "  model.add(layers.MaxPooling1D(4))\n",
        "\n",
        "  model.add(layers.Conv1D(32, 8))\n",
        "  # print(model.output_shape)\n",
        "  model.add(layers.Activation(\"relu\"))\n",
        "  model.add(layers.MaxPooling1D(4))\n",
        "\n",
        "  # print(model.output_shape)\n",
        "  #model.add(Dropout(0.25))\n",
        "  model.add(layers.Flatten())\n",
        "  print(model.output_shape)\n",
        "  model.add(layers.Dense(100))\n",
        "  model.add(layers.Activation(\"relu\"))\n",
        "  # print(model.output_shape)\n",
        "  model.add(layers.Dense(labels_onehot.shape[1]))\n",
        "  model.add(layers.Activation(\"softmax\"))\n",
        "  # print(model.output_shape)\n",
        "\n",
        "  optimizer = optimizers.SGD(lr=0.01, momentum=0.9, nesterov=True)\n",
        "  #optimizer = keras.optimizers.Adam()#lr=1e-5)#, momentum=0.9, nesterov=True)\n",
        "  model.compile(optimizer, loss='categorical_crossentropy', metrics=['acc'])\n",
        "  return model"
      ],
      "execution_count": 0,
      "outputs": []
    },
    {
      "cell_type": "code",
      "metadata": {
        "id": "i4HXlVcG2Lcv",
        "colab_type": "code",
        "colab": {}
      },
      "source": [
        "num_classes = 8\n",
        "N_LAYERS = 3\n",
        "FILTER_LENGTH = 5\n",
        "CONV_FILTER_COUNT = 56\n",
        "BATCH_SIZE = 32\n",
        "LSTM_COUNT = 96\n",
        "EPOCH_COUNT = 70\n",
        "NUM_HIDDEN = 64\n",
        "L2_regularization = 0.001\n",
        "\n",
        "\n",
        "def conv_recurrent_model_build(model_input,input_shape):\n",
        "    print('Building model...')\n",
        "    layer = model_input\n",
        "    \n",
        "    ### 3 1D Convolution Layers\n",
        "    for i in range(N_LAYERS):\n",
        "        # give name to the layers\n",
        "        layer = layers.Conv2D(\n",
        "                filters=CONV_FILTER_COUNT,\n",
        "                kernel_size=FILTER_LENGTH,\n",
        "                kernel_regularizer=regularizers.l2(L2_regularization),  # Tried 0.001\n",
        "                name='convolution_' + str(i + 1),\n",
        "                data_format='channels_last',\n",
        "                strides=1, padding='same',\n",
        "                input_shape = input_shape\n",
        "            )(layer)\n",
        "        layer = layers.BatchNormalization(momentum=0.9)(layer)\n",
        "        layer = layers.Activation('relu')(layer)\n",
        "        layer = layers.MaxPooling2D(pool_size=2,padding='same',\n",
        "                data_format='channels_last',)(layer)\n",
        "        layer = layers.Dropout(0.4)(layer)\n",
        "    \n",
        "    # ## LSTM Layer\n",
        "    # layer = layers.LSTM(LSTM_COUNT, return_sequences=False)(layer)\n",
        "    # layer = layers.Dropout(0.4)(layer)\n",
        "    \n",
        "    # ## Dense Layer\n",
        "    # layer = layers.Dense(NUM_HIDDEN, kernel_regularizer=regularizers.l2(L2_regularization), name='dense1')(layer)\n",
        "    # layer = layers.Dropout(0.4)(layer)\n",
        "    \n",
        "    # ## Softmax Output\n",
        "    # layer = layers.Dense(num_classes)(layer)\n",
        "    # layer = layers.Activation('softmax', name='output_realtime')(layer)\n",
        "\n",
        "    model_output = layer\n",
        "    model = models.Model(model_input, model_output)\n",
        "    \n",
        "    \n",
        "    opt = optimizers.Adam(lr=0.001)\n",
        "    model.compile(\n",
        "            loss='categorical_crossentropy',\n",
        "            optimizer=opt,\n",
        "            metrics=['acc']\n",
        "        )\n",
        "    \n",
        "    print(model.summary())\n",
        "    return model"
      ],
      "execution_count": 0,
      "outputs": []
    },
    {
      "cell_type": "code",
      "metadata": {
        "id": "UJzHcClh11xn",
        "colab_type": "code",
        "colab": {}
      },
      "source": [
        "# # Test the network\n",
        "# print(\"Testing network on test set...\")\n",
        "# test_history = model.evaluate_generator(test_generator,use_multiprocessing=True, workers=1)\n",
        "\n",
        "# print(test_history)"
      ],
      "execution_count": 0,
      "outputs": []
    },
    {
      "cell_type": "code",
      "metadata": {
        "id": "bLyu4PhXZOgd",
        "colab_type": "code",
        "colab": {}
      },
      "source": [
        "from __future__ import print_function\n",
        "from __future__ import absolute_import\n",
        "\n",
        "from keras import backend as tf\n",
        "from keras.layers import Input, Dense\n",
        "from keras.models import Model\n",
        "from keras.layers import Dense, Dropout, Flatten\n",
        "from keras.layers.convolutional import Convolution2D\n",
        "from keras.layers.convolutional import MaxPooling2D, ZeroPadding2D\n",
        "from keras.layers.normalization import BatchNormalization\n",
        "from keras.layers.advanced_activations import ELU\n",
        "from keras.utils.data_utils import get_file\n",
        "from keras.layers import Input, Dense"
      ],
      "execution_count": 0,
      "outputs": []
    },
    {
      "cell_type": "code",
      "metadata": {
        "id": "RVRzvz45ZT0x",
        "colab_type": "code",
        "colab": {}
      },
      "source": [
        "def pop_layer(model):\n",
        "    if not model.outputs:\n",
        "        raise Exception('Sequential model cannot be popped: model is empty.')\n",
        "\n",
        "    model.layers.pop()\n",
        "    if not model.layers:\n",
        "        model.outputs = []\n",
        "        model.inbound_nodes = []\n",
        "        model.outbound_nodes = []\n",
        "    else:\n",
        "        model.layers[-1].outbound_nodes = []\n",
        "        model.outputs = [model.layers[-1].output]\n",
        "    model.built = False\n",
        "\n",
        "\n",
        "def MusicTaggerCNN(weights='msd', input_tensor=None):\n",
        "    '''Instantiate the MusicTaggerCNN architecture,\n",
        "    optionally loading weights pre-trained\n",
        "    on Million Song Dataset. Note that when using TensorFlow,\n",
        "    for best performance you should set\n",
        "    `image_dim_ordering=\"tf\"` in your Keras config\n",
        "    at ~/.keras/keras.json.\n",
        "    The model and the weights are compatible with both\n",
        "    TensorFlow and Theano. The dimension ordering\n",
        "    convention used by the model is the one\n",
        "    specified in your Keras config file.\n",
        "    For preparing mel-spectrogram input, see\n",
        "    `audio_conv_utils.py` in [applications](https://github.com/fchollet/keras/tree/master/keras/applications).\n",
        "    You will need to install [Librosa](http://librosa.github.io/librosa/)\n",
        "    to use it.\n",
        "    # Arguments\n",
        "        weights: one of `None` (random initialization)\n",
        "            or \"msd\" (pre-training on ImageNet).\n",
        "        input_tensor: optional Keras tensor (i.e. output of `layers.Input()`)\n",
        "            to use as image input for the model.\n",
        "        include_top: whether to include the 1 fully-connected\n",
        "            layer (output layer) at the top of the network.\n",
        "            If False, the network outputs 256-dim features.\n",
        "    # Returns\n",
        "        A Keras model instance.\n",
        "    '''\n",
        "    if weights not in {'msd', None}:\n",
        "        raise ValueError('The `weights` argument should be either '\n",
        "                         '`None` (random initialization) or `msd` '\n",
        "                         '(pre-training on Million Song Dataset).')\n",
        "\n",
        "    input_shape = (64,87,1)\n",
        "\n",
        "    if input_tensor is None:\n",
        "        melgram_input = Input(shape=input_shape)\n",
        "    else:\n",
        "        melgram_input = Input(shape=input_tensor)\n",
        "\n",
        "\n",
        "    channel_axis = 3\n",
        "    freq_axis = 2\n",
        "    time_axis = 1\n",
        "\n",
        "    # Input block\n",
        "    x = BatchNormalization(axis=time_axis, name='bn_0_freq', trainable=False)(melgram_input)\n",
        "\n",
        "    # Conv block 1\n",
        "    x = Convolution2D(32, 3, 3, border_mode='same', name='conv1', trainable=False)(x)\n",
        "    x = BatchNormalization(axis=channel_axis, mode=0, name='bn1', trainable=False)(x)\n",
        "    x = ELU()(x)\n",
        "    x = MaxPooling2D(pool_size=(2, 4), name='pool1', trainable=False)(x)\n",
        "\n",
        "    # Conv block 2\n",
        "    x = Convolution2D(128, 3, 3, border_mode='same', name='conv2', trainable=False)(x)\n",
        "    x = BatchNormalization(axis=channel_axis, mode=0, name='bn2', trainable=False)(x)\n",
        "    x = ELU()(x)\n",
        "    x = MaxPooling2D(pool_size=(2, 4), name='pool2')(x)\n",
        "\n",
        "    # Conv block 3\n",
        "    x = Convolution2D(128, 3, 3, border_mode='same', name='conv3', trainable=False)(x)\n",
        "    x = BatchNormalization(axis=channel_axis, mode=0, name='bn3', trainable=False)(x)\n",
        "    x = ELU()(x)\n",
        "    x = MaxPooling2D(pool_size=(2, 4), name='pool3')(x)\n",
        "\n",
        "    # # Conv block 4\n",
        "    # x = Convolution2D(192, 3, 3, border_mode='same', name='conv4', trainable=False)(x)\n",
        "    # x = BatchNormalization(axis=channel_axis, mode=0, name='bn4', trainable=False)(x)\n",
        "    # x = ELU()(x)\n",
        "    # x = MaxPooling2D(pool_size=(3, 5), name='pool4', trainable=False)(x)\n",
        "\n",
        "    # # Conv block 5\n",
        "    # x = Convolution2D(256, 3, 3, border_mode='same', name='conv5')(x)\n",
        "    # x = BatchNormalization(axis=channel_axis, mode=0, name='bn5')(x)\n",
        "    # x = ELU()(x)\n",
        "    # x = MaxPooling2D(pool_size=(4, 4), name='pool5')(x)\n",
        "\n",
        "    # Output\n",
        "    x = Flatten(name='Flatten_1')(x)\n",
        "\n",
        "    if weights is None:\n",
        "        # Create model\n",
        "        x = Dense(8, activation='softmax', name='output')(x)\n",
        "        model = Model(melgram_input, x)\n",
        "        return model\n",
        "    else:\n",
        "        # Load input\n",
        "        x = Dense(50, activation='sigmoid', name='output')(x)\n",
        "        # if K.image_dim_ordering() == 'tf':\n",
        "        #     raise RuntimeError(\"Please set image_dim_ordering == 'th'.\"\n",
        "        #                        \"You can set it at ~/.keras/keras.json\")\n",
        "        # Create model\n",
        "        initial_model = Model(melgram_input, x)\n",
        "        initial_model.load_weights('/content/music_tagger_cnn_weights_tensorflow.h5',\n",
        "                                   by_name=True)\n",
        "\n",
        "        # Eliminate last layer\n",
        "        pop_layer(initial_model)\n",
        "\n",
        "        # Add new Dense layer\n",
        "        last = initial_model.get_layer('Flatten_1')\n",
        "        preds = (Dense(10, activation='sigmoid', name='preds'))(last.output)\n",
        "        model = Model(initial_model.input, preds)\n",
        "\n",
        "        return model"
      ],
      "execution_count": 0,
      "outputs": []
    }
  ]
}