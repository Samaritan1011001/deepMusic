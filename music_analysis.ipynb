{
 "cells": [
  {
   "cell_type": "code",
   "execution_count": 1,
   "metadata": {},
   "outputs": [],
   "source": [
    "%matplotlib inline\n",
    "\n",
    "import os\n",
    "\n",
    "import IPython.display as ipd\n",
    "import numpy as np\n",
    "import pandas as pd\n",
    "import matplotlib.pyplot as plt\n",
    "import seaborn as sns\n",
    "import sklearn as skl\n",
    "import sklearn.utils, sklearn.preprocessing, sklearn.decomposition, sklearn.svm\n",
    "import librosa\n",
    "import librosa.display\n",
    "\n",
    "import utils\n",
    "\n",
    "plt.rcParams['figure.figsize'] = (17, 5)"
   ]
  },
  {
   "cell_type": "code",
   "execution_count": 2,
   "metadata": {},
   "outputs": [
    {
     "name": "stdout",
     "output_type": "stream",
     "text": [
      "C:\\Users\\bisar\\Desktop\\IIT\\Courses\\Spring 2020\\Deep Learning\\FInal Project\\Main Ref Docs\\fma\\test_audio_files\n"
     ]
    }
   ],
   "source": [
    "# Directory where mp3 are stored.\n",
    "AUDIO_DIR = os.environ.get('AUDIO_DIR')\n",
    "print(AUDIO_DIR)"
   ]
  },
  {
   "cell_type": "code",
   "execution_count": 3,
   "metadata": {},
   "outputs": [
    {
     "data": {
      "text/plain": [
       "((106574, 52), (163, 4), (106574, 518), (13129, 249))"
      ]
     },
     "execution_count": 3,
     "metadata": {},
     "output_type": "execute_result"
    }
   ],
   "source": [
    "# Load metadata and features.\n",
    "tracks = utils.load('fma_metadata/tracks.csv')\n",
    "genres = utils.load('fma_metadata/genres.csv')\n",
    "features = utils.load('fma_metadata/features.csv')\n",
    "echonest = utils.load('fma_metadata/echonest.csv')\n",
    "\n",
    "np.testing.assert_array_equal(features.index, tracks.index)\n",
    "assert echonest.index.isin(tracks.index).all()\n",
    "\n",
    "tracks.shape, genres.shape, features.shape, echonest.shape"
   ]
  },
  {
   "cell_type": "code",
   "execution_count": 4,
   "metadata": {},
   "outputs": [
    {
     "name": "stdout",
     "output_type": "stream",
     "text": [
      "WARNING:tensorflow:From c:\\users\\bisar\\appdata\\local\\programs\\python\\python37\\lib\\site-packages\\tensorflow_core\\python\\compat\\v2_compat.py:88: disable_resource_variables (from tensorflow.python.ops.variable_scope) is deprecated and will be removed in a future version.\n",
      "Instructions for updating:\n",
      "non-resource variables are not supported in the long term\n"
     ]
    }
   ],
   "source": [
    "import tensorflow.compat.v1 as tf\n",
    "tf.disable_v2_behavior()"
   ]
  },
  {
   "cell_type": "code",
   "execution_count": 5,
   "metadata": {},
   "outputs": [],
   "source": [
    "import numpy as np\n",
    "from tensorflow.keras import models\n",
    "from tensorflow.keras import layers\n",
    "import copy\n",
    "from tensorflow.keras.datasets import cifar10\n",
    "import matplotlib.pyplot as plt\n",
    "from tensorflow.keras import optimizers\n",
    "from sklearn.preprocessing import OneHotEncoder\n",
    "from sklearn.preprocessing import LabelEncoder"
   ]
  },
  {
   "cell_type": "code",
   "execution_count": 6,
   "metadata": {},
   "outputs": [
    {
     "name": "stdout",
     "output_type": "stream",
     "text": [
      "(6400,) training examples, 800 testing examples\n",
      "800 val examples\n",
      "(6400, 140) features, 8 classes\n"
     ]
    }
   ],
   "source": [
    "small = tracks['set', 'subset'] <= 'small'\n",
    "\n",
    "train = tracks['set', 'split'] == 'training'\n",
    "val = tracks['set', 'split'] == 'validation'\n",
    "test = tracks['set', 'split'] == 'test'\n",
    "\n",
    "y_train = tracks.loc[small & train, ('track', 'genre_top')]\n",
    "y_test = tracks.loc[small & test, ('track', 'genre_top')]\n",
    "x_train = features.loc[small & train, 'mfcc']\n",
    "x_test = features.loc[small & test, 'mfcc']\n",
    "\n",
    "y_val = tracks.loc[small & val, ('track', 'genre_top')]\n",
    "x_val = features.loc[small & val, 'mfcc']\n",
    "\n",
    "\n",
    "print('{} training examples, {} testing examples'.format(y_train.shape, y_test.size))\n",
    "print('{} val examples'.format(y_val.size))\n",
    "\n",
    "print('{} features, {} classes'.format(x_train.shape, np.unique(y_train).size))"
   ]
  },
  {
   "cell_type": "code",
   "execution_count": 7,
   "metadata": {},
   "outputs": [],
   "source": [
    "def one_hot_enc(y_data):\n",
    "    label_encoder = LabelEncoder()\n",
    "    integer_encoded = label_encoder.fit_transform(y_data)\n",
    "    print(integer_encoded.size)\n",
    "    onehot_encoder = OneHotEncoder(sparse=False)\n",
    "    integer_encoded = integer_encoded.reshape(len(integer_encoded), 1)\n",
    "    onehot_encoded = onehot_encoder.fit_transform(integer_encoded)\n",
    "#     print(onehot_encoded.shape)\n",
    "    return onehot_encoded"
   ]
  },
  {
   "cell_type": "code",
   "execution_count": 8,
   "metadata": {},
   "outputs": [
    {
     "name": "stdout",
     "output_type": "stream",
     "text": [
      "(6400,) training examples, 800 testing examples\n",
      "800 val examples\n",
      "(6400, 140) features, 8 classes\n",
      "6400\n",
      "800\n",
      "800\n",
      "51200 training examples, 6400 testing examples\n"
     ]
    },
    {
     "name": "stderr",
     "output_type": "stream",
     "text": [
      "c:\\users\\bisar\\appdata\\local\\programs\\python\\python37\\lib\\site-packages\\ipykernel_launcher.py:20: FutureWarning: Method .as_matrix will be removed in a future version. Use .values instead.\n",
      "c:\\users\\bisar\\appdata\\local\\programs\\python\\python37\\lib\\site-packages\\ipykernel_launcher.py:21: FutureWarning: Method .as_matrix will be removed in a future version. Use .values instead.\n",
      "c:\\users\\bisar\\appdata\\local\\programs\\python\\python37\\lib\\site-packages\\ipykernel_launcher.py:22: FutureWarning: Method .as_matrix will be removed in a future version. Use .values instead.\n"
     ]
    }
   ],
   "source": [
    "print('{} training examples, {} testing examples'.format(y_train.shape, y_test.size))\n",
    "print('{} val examples'.format(y_val.size))\n",
    "\n",
    "print('{} features, {} classes'.format(x_train.shape, np.unique(y_train).size))\n",
    "\n",
    "# Be sure training samples are shuffled.\n",
    "x_train, y_train = skl.utils.shuffle(x_train, y_train, random_state=42)\n",
    "x_val, y_val = skl.utils.shuffle(x_val, y_val, random_state=42)\n",
    "\n",
    "# Standardize features by removing the mean and scaling to unit variance.\n",
    "scaler = skl.preprocessing.StandardScaler(copy=False)\n",
    "scaler.fit_transform(x_train)\n",
    "scaler.transform(x_test)\n",
    "scaler.transform(x_val)\n",
    "\n",
    "y_train = one_hot_enc(y_train)\n",
    "y_val = one_hot_enc(y_val)\n",
    "y_test = one_hot_enc(y_test)\n",
    "\n",
    "x_train = x_train.as_matrix()\n",
    "x_val = x_val.as_matrix()\n",
    "x_test = x_test.as_matrix()\n",
    "\n",
    "print('{} training examples, {} testing examples'.format(y_train.size, y_test.size))\n",
    "\n",
    "\n",
    "\n",
    "# # Support vector classification.\n",
    "# clf = skl.svm.SVC()\n",
    "# clf.fit(X_train, y_train)\n",
    "# score = clf.score(X_test, y_test)\n",
    "# print('Accuracy: {:.2%}'.format(score))"
   ]
  },
  {
   "cell_type": "code",
   "execution_count": 9,
   "metadata": {},
   "outputs": [
    {
     "name": "stdout",
     "output_type": "stream",
     "text": [
      "[name: \"/device:CPU:0\"\n",
      "device_type: \"CPU\"\n",
      "memory_limit: 268435456\n",
      "locality {\n",
      "}\n",
      "incarnation: 10404222865258454989\n",
      ", name: \"/device:GPU:0\"\n",
      "device_type: \"GPU\"\n",
      "memory_limit: 4828102656\n",
      "locality {\n",
      "  bus_id: 1\n",
      "  links {\n",
      "  }\n",
      "}\n",
      "incarnation: 6925796068850592330\n",
      "physical_device_desc: \"device: 0, name: GeForce RTX 2060, pci bus id: 0000:01:00.0, compute capability: 7.5\"\n",
      "]\n"
     ]
    }
   ],
   "source": [
    "from tensorflow.python.client import device_lib\n",
    "print(device_lib.list_local_devices())"
   ]
  },
  {
   "cell_type": "code",
   "execution_count": 11,
   "metadata": {},
   "outputs": [],
   "source": [
    "def generate_model(input_shape):\n",
    "    model = models.Sequential()\n",
    "    # Hidden layers cannot be too small because if it is, then there will be information loss\n",
    "    model.add(layers.Dense(512, activation='relu', input_shape=input_shape))\n",
    "    model.add(layers.Dropout(0.2))\n",
    "    model.add(layers.Dense(128, activation='relu'))\n",
    "    model.add(layers.Dropout(0.4))\n",
    "    model.add(layers.Dense(512, activation='relu'))\n",
    "    model.add(layers.BatchNormalization())\n",
    "    model.add(layers.Dense(512, activation='relu'))\n",
    "\n",
    "    model.add(layers.Dense(8, activation='softmax'))\n",
    "\n",
    "\n",
    "    # Compile the model\n",
    "    # Use sparse categorical cross entropy for loss if NOT using one hot encoding. Both give same results\n",
    "    model.compile(\n",
    "        optimizer=optimizers.Adam(lr=0.001,decay=0.1),\n",
    "        loss='categorical_crossentropy', metrics=['acc'])\n",
    "    return model"
   ]
  },
  {
   "cell_type": "code",
   "execution_count": 12,
   "metadata": {},
   "outputs": [],
   "source": [
    "def plot_epocs_graph(history_dict, bin_acc=True):\n",
    "    loss_vals = history_dict['loss']\n",
    "    val_loss_vals = history_dict['val_loss']\n",
    "    epochs = range(1, len(history_dict['binary_accuracy'] if bin_acc else history_dict['acc']) + 1)\n",
    "    plt.subplot(1, 2, 1)\n",
    "    plt.plot(epochs, loss_vals, 'bo', label='Training Loss')\n",
    "    plt.plot(epochs, val_loss_vals, 'b', label='Validation Loss')\n",
    "    plt.title(\"Training and validation loss\")\n",
    "    plt.xlabel('Epochs')\n",
    "    plt.ylabel('Loss')\n",
    "    plt.legend()\n",
    "\n",
    "    plt.subplot(1, 2, 2)\n",
    "    acc_vals = history_dict['binary_accuracy'] if bin_acc else history_dict['acc']\n",
    "    val_acc_vals = history_dict['val_binary_accuracy'] if bin_acc else history_dict['val_acc']\n",
    "    plt.plot(epochs, acc_vals, 'bo', label='Training accuracy')\n",
    "    plt.plot(epochs, val_acc_vals, 'b', label='Validation accuracy')\n",
    "    plt.title(\"Training and validation Accuracy\")\n",
    "    plt.xlabel('Epochs')\n",
    "    plt.ylabel('Loss')\n",
    "    plt.legend()\n",
    "    # plt.savefig(\"../doc/graphs/val_loss_acc_epochs_task1.png\")\n",
    "    plt.show()\n",
    "    return"
   ]
  },
  {
   "cell_type": "code",
   "execution_count": 13,
   "metadata": {},
   "outputs": [
    {
     "name": "stdout",
     "output_type": "stream",
     "text": [
      "WARNING:tensorflow:From c:\\users\\bisar\\appdata\\local\\programs\\python\\python37\\lib\\site-packages\\tensorflow_core\\python\\ops\\resource_variable_ops.py:1635: calling BaseResourceVariable.__init__ (from tensorflow.python.ops.resource_variable_ops) with constraint is deprecated and will be removed in a future version.\n",
      "Instructions for updating:\n",
      "If using Keras pass *_constraint arguments to layers.\n",
      "WARNING:tensorflow:The `nb_epoch` argument in `fit` has been renamed `epochs`.\n",
      "Train on 6400 samples, validate on 800 samples\n",
      "Epoch 1/12\n",
      "6400/6400 [==============================] - 1s 91us/sample - loss: 1.9004 - acc: 0.3123 - val_loss: 1.7975 - val_acc: 0.3525\n",
      "Epoch 2/12\n",
      "6400/6400 [==============================] - 0s 10us/sample - loss: 1.6279 - acc: 0.4123 - val_loss: 1.7839 - val_acc: 0.4212\n",
      "Epoch 3/12\n",
      "6400/6400 [==============================] - 0s 10us/sample - loss: 1.5855 - acc: 0.4283 - val_loss: 1.7453 - val_acc: 0.4550\n",
      "Epoch 4/12\n",
      "6400/6400 [==============================] - 0s 13us/sample - loss: 1.5369 - acc: 0.4450 - val_loss: 1.7169 - val_acc: 0.4762\n",
      "Epoch 5/12\n",
      "6400/6400 [==============================] - 0s 10us/sample - loss: 1.5124 - acc: 0.4578 - val_loss: 1.6866 - val_acc: 0.5025\n",
      "Epoch 6/12\n",
      "6400/6400 [==============================] - 0s 10us/sample - loss: 1.4853 - acc: 0.4598 - val_loss: 1.6566 - val_acc: 0.5100\n",
      "Epoch 7/12\n",
      "6400/6400 [==============================] - 0s 10us/sample - loss: 1.4609 - acc: 0.4727 - val_loss: 1.6214 - val_acc: 0.5113\n",
      "Epoch 8/12\n",
      "6400/6400 [==============================] - 0s 11us/sample - loss: 1.4572 - acc: 0.4764 - val_loss: 1.5941 - val_acc: 0.5175\n",
      "Epoch 9/12\n",
      "6400/6400 [==============================] - 0s 10us/sample - loss: 1.4419 - acc: 0.4822 - val_loss: 1.5662 - val_acc: 0.5225\n",
      "Epoch 10/12\n",
      "6400/6400 [==============================] - 0s 10us/sample - loss: 1.4342 - acc: 0.4795 - val_loss: 1.5383 - val_acc: 0.5213\n",
      "Epoch 11/12\n",
      "6400/6400 [==============================] - 0s 10us/sample - loss: 1.4331 - acc: 0.4853 - val_loss: 1.5137 - val_acc: 0.5250\n",
      "Epoch 12/12\n",
      "6400/6400 [==============================] - 0s 10us/sample - loss: 1.4198 - acc: 0.4886 - val_loss: 1.4901 - val_acc: 0.5188\n",
      "dict_keys(['loss', 'acc', 'val_loss', 'val_acc'])\n",
      "avg accuracy 0.4500260055065155\n",
      "val avg accuracy 0.48614585399627686\n"
     ]
    },
    {
     "data": {
      "image/png": "[encoded data removed]",
      "text/plain": [
       "<Figure size 1224x360 with 2 Axes>"
      ]
     },
     "metadata": {
      "needs_background": "light"
     },
     "output_type": "display_data"
    },
    {
     "name": "stdout",
     "output_type": "stream",
     "text": [
      "800/800 [==============================] - 0s 65us/sample - loss: 1.6485 - acc: 0.4150\n",
      "\n",
      " Test Accuracy 41.49999916553497\n"
     ]
    },
    {
     "data": {
      "text/plain": [
       "<tensorflow.python.keras.engine.sequential.Sequential at 0x20b16ccc2c8>"
      ]
     },
     "execution_count": 13,
     "metadata": {},
     "output_type": "execute_result"
    }
   ],
   "source": [
    "\n",
    "def build_train_validate(x_train, y_train, input_shape, x_val, y_val):\n",
    "    # Build the network\n",
    "    model = generate_model(input_shape)\n",
    "\n",
    "#     # Training and validation\n",
    "    history = model.fit(x_train, y_train, nb_epoch=12, batch_size=512, validation_data=(x_val, y_val))\n",
    "    history_dict = history.history\n",
    "    print(history_dict.keys())\n",
    "    print(f'avg accuracy {np.mean(history_dict[\"acc\"])}')\n",
    "    print(f'val avg accuracy {np.mean(history_dict[\"val_acc\"])}')\n",
    "    plot_epocs_graph(history_dict, False)\n",
    "    results = model.evaluate(x_test, y_test)\n",
    "    print(f'\\n Test Accuracy {results[1]*100}')\n",
    "    return model\n",
    "\n",
    "build_train_validate(x_train, y_train, x_train.shape[1:], x_val, y_val)"
   ]
  }
 ],
 "metadata": {
  "kernelspec": {
   "display_name": "Python 3",
   "language": "python",
   "name": "python3"
  },
  "language_info": {
   "codemirror_mode": {
    "name": "ipython",
    "version": 3
   },
   "file_extension": ".py",
   "mimetype": "text/x-python",
   "name": "python",
   "nbconvert_exporter": "python",
   "pygments_lexer": "ipython3",
   "version": "3.7.6rc1"
  }
 },
 "nbformat": 4,
 "nbformat_minor": 4
}
