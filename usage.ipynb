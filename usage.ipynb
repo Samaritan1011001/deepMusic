{
 "cells": [
  {
   "cell_type": "markdown",
   "metadata": {},
   "source": [
    "# FMA: A Dataset For Music Analysis\n",
    "\n",
    "Michaël Defferrard, Kirell Benzi, Pierre Vandergheynst, Xavier Bresson, EPFL LTS2.\n",
    "\n",
    "## Usage\n",
    "\n",
    "1. Go through the [paper] to understand what the data is about.\n",
    "1. Download some datasets from <https://github.com/mdeff/fma>.\n",
    "1. Uncompress the archives, e.g. with `unzip fma_small.zip`.\n",
    "1. Load and play with the data in this notebook.\n",
    "\n",
    "[paper]: https://arxiv.org/abs/1612.01840"
   ]
  },
  {
   "cell_type": "code",
   "execution_count": 1,
   "metadata": {},
   "outputs": [],
   "source": [
    "%matplotlib inline\n",
    "\n",
    "import os\n",
    "\n",
    "import IPython.display as ipd\n",
    "import numpy as np\n",
    "import pandas as pd\n",
    "import matplotlib.pyplot as plt\n",
    "import seaborn as sns\n",
    "import sklearn as skl\n",
    "import sklearn.utils, sklearn.preprocessing, sklearn.decomposition, sklearn.svm\n",
    "import librosa\n",
    "import librosa.display\n",
    "\n",
    "import utils\n",
    "\n",
    "plt.rcParams['figure.figsize'] = (17, 5)"
   ]
  },
  {
   "cell_type": "code",
   "execution_count": 2,
   "metadata": {},
   "outputs": [
    {
     "name": "stdout",
     "output_type": "stream",
     "text": [
      "C:\\Users\\bisar\\Desktop\\IIT\\Courses\\Spring 2020\\Deep Learning\\FInal Project\\Main Ref Docs\\fma\\test_audio_files\n"
     ]
    }
   ],
   "source": [
    "# Directory where mp3 are stored.\n",
    "AUDIO_DIR = os.environ.get('AUDIO_DIR')\n",
    "print(AUDIO_DIR)"
   ]
  },
  {
   "cell_type": "code",
   "execution_count": 3,
   "metadata": {},
   "outputs": [
    {
     "data": {
      "text/plain": [
       "((106574, 52), (163, 4), (106574, 518), (13129, 249))"
      ]
     },
     "execution_count": 3,
     "metadata": {},
     "output_type": "execute_result"
    }
   ],
   "source": [
    "\n",
    "# Load metadata and features.\n",
    "tracks = utils.load('fma_metadata/tracks.csv')\n",
    "genres = utils.load('fma_metadata/genres.csv')\n",
    "features = utils.load('fma_metadata/features.csv')\n",
    "echonest = utils.load('fma_metadata/echonest.csv')\n",
    "\n",
    "np.testing.assert_array_equal(features.index, tracks.index)\n",
    "assert echonest.index.isin(tracks.index).all()\n",
    "\n",
    "tracks.shape, genres.shape, features.shape, echonest.shape"
   ]
  },
  {
   "cell_type": "markdown",
   "metadata": {},
   "source": [
    "## 1 Metadata\n",
    "\n",
    "The metadata table, a CSV file in the `fma_metadata.zip` archive, is composed of many colums:\n",
    "1. The index is the ID of the song, taken from the website, used as the name of the audio file.\n",
    "2. Per-track, per-album and per-artist metadata from the Free Music Archive website.\n",
    "3. Two columns to indicate the subset (small, medium, large) and the split (training, validation, test)."
   ]
  },
  {
   "cell_type": "code",
   "execution_count": null,
   "metadata": {},
   "outputs": [],
   "source": [
    "ipd.display(tracks['track'].head())\n",
    "ipd.display(tracks['album'].head())\n",
    "ipd.display(tracks['artist'].head())\n",
    "ipd.display(tracks['set'].head())"
   ]
  },
  {
   "cell_type": "markdown",
   "metadata": {},
   "source": [
    "## 2 Genres\n",
    "\n",
    "The genre hierarchy is stored in `genres.csv` and distributed in `fma_metadata.zip`."
   ]
  },
  {
   "cell_type": "code",
   "execution_count": null,
   "metadata": {},
   "outputs": [],
   "source": [
    "print('{} top-level genres'.format(len(genres['top_level'].unique())))\n",
    "genres.loc[genres['top_level'].unique()].sort_values('#tracks', ascending=False)"
   ]
  },
  {
   "cell_type": "code",
   "execution_count": null,
   "metadata": {},
   "outputs": [],
   "source": [
    "genres.sort_values('#tracks').head()"
   ]
  },
  {
   "cell_type": "code",
   "execution_count": null,
   "metadata": {},
   "outputs": [],
   "source": [
    "genres['top_level'].unique()"
   ]
  },
  {
   "cell_type": "markdown",
   "metadata": {},
   "source": [
    "## 3 Features\n",
    "\n",
    "1. Features extracted from the audio for all tracks.\n",
    "2. For some tracks, data colected from the [Echonest](http://the.echonest.com/) API."
   ]
  },
  {
   "cell_type": "code",
   "execution_count": null,
   "metadata": {},
   "outputs": [],
   "source": [
    "print('{1} features for {0} tracks'.format(*features.shape))\n",
    "columns = ['mfcc', 'chroma_cens', 'tonnetz', 'spectral_contrast']\n",
    "columns.append(['spectral_centroid', 'spectral_bandwidth', 'spectral_rolloff'])\n",
    "columns.append(['rmse', 'zcr'])\n",
    "for column in columns:\n",
    "    ipd.display(features[column].head().style.format('{:.2f}'))"
   ]
  },
  {
   "cell_type": "markdown",
   "metadata": {},
   "source": [
    "### 3.1 Echonest features"
   ]
  },
  {
   "cell_type": "code",
   "execution_count": null,
   "metadata": {},
   "outputs": [],
   "source": [
    "print('{1} features for {0} tracks'.format(*echonest.shape))\n",
    "ipd.display(echonest['echonest', 'metadata'].head())\n",
    "ipd.display(echonest['echonest', 'audio_features'].head())\n",
    "ipd.display(echonest['echonest', 'social_features'].head())\n",
    "ipd.display(echonest['echonest', 'ranks'].head())"
   ]
  },
  {
   "cell_type": "code",
   "execution_count": null,
   "metadata": {},
   "outputs": [],
   "source": [
    "ipd.display(echonest['echonest', 'temporal_features'].head())\n",
    "x = echonest.loc[2, ('echonest', 'temporal_features')]\n",
    "plt.plot(x);"
   ]
  },
  {
   "cell_type": "markdown",
   "metadata": {},
   "source": [
    "### 3.2 Features like MFCCs are discriminant"
   ]
  },
  {
   "cell_type": "code",
   "execution_count": null,
   "metadata": {},
   "outputs": [],
   "source": [
    "small = tracks['set', 'subset'] <= 'small'\n",
    "genre1 = tracks['track', 'genre_top'] == 'Instrumental'\n",
    "genre2 = tracks['track', 'genre_top'] == 'Hip-Hop'\n",
    "\n",
    "X = features.loc[small & (genre1 | genre2), 'mfcc']\n",
    "X = skl.decomposition.PCA(n_components=2).fit_transform(X)\n",
    "\n",
    "y = tracks.loc[small & (genre1 | genre2), ('track', 'genre_top')]\n",
    "y = skl.preprocessing.LabelEncoder().fit_transform(y)\n",
    "\n",
    "plt.scatter(X[:,0], X[:,1], c=y, cmap='RdBu', alpha=0.5)\n",
    "X.shape, y.shape"
   ]
  },
  {
   "cell_type": "markdown",
   "metadata": {},
   "source": [
    "## 4 Audio\n",
    "\n",
    "You can load the waveform and listen to audio in the notebook itself."
   ]
  },
  {
   "cell_type": "code",
   "execution_count": null,
   "metadata": {},
   "outputs": [],
   "source": [
    "filename = utils.get_audio_path(AUDIO_DIR, 2)\n",
    "print('File: {}'.format(filename))\n",
    "\n",
    "x, sr = librosa.load(filename, sr=None, mono=True)\n",
    "print('Duration: {:.2f}s, {} samples'.format(x.shape[-1] / sr, x.size))\n",
    "\n",
    "start, end = 7, 17\n",
    "ipd.Audio(data=x[start*sr:end*sr], rate=sr)"
   ]
  },
  {
   "cell_type": "markdown",
   "metadata": {},
   "source": [
    "And use [librosa](https://github.com/librosa/librosa) to compute spectrograms and audio features."
   ]
  },
  {
   "cell_type": "code",
   "execution_count": null,
   "metadata": {},
   "outputs": [],
   "source": [
    "librosa.display.waveplot(x, sr, alpha=0.5);\n",
    "plt.vlines([start, end], -1, 1)\n",
    "\n",
    "start = len(x) // 2\n",
    "plt.figure()\n",
    "plt.plot(x[start:start+2000])\n",
    "plt.ylim((-1, 1));"
   ]
  },
  {
   "cell_type": "code",
   "execution_count": null,
   "metadata": {},
   "outputs": [],
   "source": [
    "stft = np.abs(librosa.stft(x, n_fft=2048, hop_length=512))\n",
    "mel = librosa.feature.melspectrogram(sr=sr, S=stft**2)\n",
    "log_mel = librosa.amplitude_to_db(mel)\n",
    "\n",
    "librosa.display.specshow(log_mel, sr=sr, hop_length=512, x_axis='time', y_axis='mel');"
   ]
  },
  {
   "cell_type": "code",
   "execution_count": null,
   "metadata": {},
   "outputs": [],
   "source": [
    "mfcc = librosa.feature.mfcc(S=librosa.power_to_db(mel), n_mfcc=20)\n",
    "mfcc = skl.preprocessing.StandardScaler().fit_transform(mfcc)\n",
    "librosa.display.specshow(mfcc, sr=sr, x_axis='time');"
   ]
  },
  {
   "cell_type": "markdown",
   "metadata": {},
   "source": [
    "## 5 Genre classification"
   ]
  },
  {
   "cell_type": "markdown",
   "metadata": {},
   "source": [
    "### 5.1 From features"
   ]
  },
  {
   "cell_type": "code",
   "execution_count": 39,
   "metadata": {},
   "outputs": [],
   "source": [
    "import numpy as np\n",
    "from keras import models\n",
    "from keras import layers\n",
    "import copy\n",
    "from keras.datasets import cifar10\n",
    "import matplotlib.pyplot as plt\n",
    "from keras import optimizers\n",
    "from sklearn.preprocessing import OneHotEncoder\n",
    "from sklearn.preprocessing import LabelEncoder\n",
    "\n"
   ]
  },
  {
   "cell_type": "code",
   "execution_count": 86,
   "metadata": {},
   "outputs": [
    {
     "name": "stdout",
     "output_type": "stream",
     "text": [
      "(6400,) training examples, 800 testing examples\n",
      "800 val examples\n",
      "(6400, 140) features, 8 classes\n"
     ]
    }
   ],
   "source": [
    "small = tracks['set', 'subset'] <= 'small'\n",
    "\n",
    "train = tracks['set', 'split'] == 'training'\n",
    "val = tracks['set', 'split'] == 'validation'\n",
    "test = tracks['set', 'split'] == 'test'\n",
    "\n",
    "y_train = tracks.loc[small & train, ('track', 'genre_top')]\n",
    "y_test = tracks.loc[small & test, ('track', 'genre_top')]\n",
    "x_train = features.loc[small & train, 'mfcc']\n",
    "x_test = features.loc[small & test, 'mfcc']\n",
    "\n",
    "y_val = tracks.loc[small & val, ('track', 'genre_top')]\n",
    "x_val = features.loc[small & val, 'mfcc']\n",
    "\n",
    "\n",
    "print('{} training examples, {} testing examples'.format(y_train.shape, y_test.size))\n",
    "print('{} val examples'.format(y_val.size))\n",
    "\n",
    "print('{} features, {} classes'.format(x_train.shape, np.unique(y_train).size))"
   ]
  },
  {
   "cell_type": "code",
   "execution_count": 78,
   "metadata": {},
   "outputs": [],
   "source": [
    "def one_hot_enc(y_data):\n",
    "    label_encoder = LabelEncoder()\n",
    "    integer_encoded = label_encoder.fit_transform(y_data)\n",
    "    print(integer_encoded.size)\n",
    "    onehot_encoder = OneHotEncoder(sparse=False)\n",
    "    integer_encoded = integer_encoded.reshape(len(integer_encoded), 1)\n",
    "    onehot_encoded = onehot_encoder.fit_transform(integer_encoded)\n",
    "#     print(onehot_encoded.shape)\n",
    "    return onehot_encoded"
   ]
  },
  {
   "cell_type": "code",
   "execution_count": 87,
   "metadata": {},
   "outputs": [
    {
     "name": "stdout",
     "output_type": "stream",
     "text": [
      "(6400,) training examples, 800 testing examples\n",
      "800 val examples\n",
      "(6400, 140) features, 8 classes\n",
      "6400\n",
      "800\n",
      "800\n",
      "51200 training examples, 6400 testing examples\n"
     ]
    },
    {
     "name": "stderr",
     "output_type": "stream",
     "text": [
      "c:\\users\\bisar\\appdata\\local\\programs\\python\\python37\\lib\\site-packages\\ipykernel_launcher.py:20: FutureWarning: Method .as_matrix will be removed in a future version. Use .values instead.\n",
      "c:\\users\\bisar\\appdata\\local\\programs\\python\\python37\\lib\\site-packages\\ipykernel_launcher.py:21: FutureWarning: Method .as_matrix will be removed in a future version. Use .values instead.\n",
      "c:\\users\\bisar\\appdata\\local\\programs\\python\\python37\\lib\\site-packages\\ipykernel_launcher.py:22: FutureWarning: Method .as_matrix will be removed in a future version. Use .values instead.\n"
     ]
    }
   ],
   "source": [
    "print('{} training examples, {} testing examples'.format(y_train.shape, y_test.size))\n",
    "print('{} val examples'.format(y_val.size))\n",
    "\n",
    "print('{} features, {} classes'.format(x_train.shape, np.unique(y_train).size))\n",
    "\n",
    "# Be sure training samples are shuffled.\n",
    "x_train, y_train = skl.utils.shuffle(x_train, y_train, random_state=42)\n",
    "x_val, y_val = skl.utils.shuffle(x_val, y_val, random_state=42)\n",
    "\n",
    "# Standardize features by removing the mean and scaling to unit variance.\n",
    "scaler = skl.preprocessing.StandardScaler(copy=False)\n",
    "scaler.fit_transform(x_train)\n",
    "scaler.transform(x_test)\n",
    "scaler.transform(x_val)\n",
    "\n",
    "y_train = one_hot_enc(y_train)\n",
    "y_val = one_hot_enc(y_val)\n",
    "y_test = one_hot_enc(y_test)\n",
    "\n",
    "x_train = x_train.as_matrix()\n",
    "x_val = x_val.as_matrix()\n",
    "x_test = x_test.as_matrix()\n",
    "\n",
    "print('{} training examples, {} testing examples'.format(y_train.size, y_test.size))\n",
    "\n",
    "\n",
    "\n",
    "# # Support vector classification.\n",
    "# clf = skl.svm.SVC()\n",
    "# clf.fit(X_train, y_train)\n",
    "# score = clf.score(X_test, y_test)\n",
    "# print('Accuracy: {:.2%}'.format(score))"
   ]
  },
  {
   "cell_type": "code",
   "execution_count": 55,
   "metadata": {},
   "outputs": [
    {
     "name": "stdout",
     "output_type": "stream",
     "text": [
      "[name: \"/device:CPU:0\"\n",
      "device_type: \"CPU\"\n",
      "memory_limit: 268435456\n",
      "locality {\n",
      "}\n",
      "incarnation: 10374180331617940291\n",
      "]\n"
     ]
    }
   ],
   "source": [
    "from tensorflow.python.client import device_lib\n",
    "print(device_lib.list_local_devices())"
   ]
  },
  {
   "cell_type": "code",
   "execution_count": null,
   "metadata": {},
   "outputs": [],
   "source": [
    "pip freeze"
   ]
  },
  {
   "cell_type": "code",
   "execution_count": null,
   "metadata": {},
   "outputs": [],
   "source": [
    "import tensorflow.compat.v1 as tf\n",
    "tf.disable_v2_behavior() "
   ]
  },
  {
   "cell_type": "code",
   "execution_count": 97,
   "metadata": {},
   "outputs": [],
   "source": [
    "def generate_model(input_shape):\n",
    "    model = models.Sequential()\n",
    "    # Hidden layers cannot be too small because if it is, then there will be information loss\n",
    "    model.add(layers.Dense(512, activation='relu', input_shape=input_shape))\n",
    "    model.add(layers.Dropout(0.3))\n",
    "    model.add(layers.Dense(512, activation='relu'))\n",
    "    model.add(layers.Dropout(0.4))\n",
    "    model.add(layers.Dense(512, activation='relu'))\n",
    "    model.add(layers.Dense(512, activation='relu'))\n",
    "    model.add(layers.Dense(512, activation='relu'))\n",
    "\n",
    "    model.add(layers.Dense(8, activation='softmax'))\n",
    "\n",
    "    # Compile the model\n",
    "    # Use sparse categorical cross entropy for loss if NOT using one hot encoding. Both give same results\n",
    "    model.compile(\n",
    "        optimizer=optimizers.Adam(lr=0.001),\n",
    "        loss='categorical_crossentropy', metrics=['acc'])\n",
    "    return model"
   ]
  },
  {
   "cell_type": "code",
   "execution_count": 89,
   "metadata": {},
   "outputs": [],
   "source": [
    "def plot_epocs_graph(history_dict, bin_acc=True):\n",
    "    loss_vals = history_dict['loss']\n",
    "    val_loss_vals = history_dict['val_loss']\n",
    "    epochs = range(1, len(history_dict['binary_accuracy'] if bin_acc else history_dict['acc']) + 1)\n",
    "    plt.subplot(1, 2, 1)\n",
    "    plt.plot(epochs, loss_vals, 'bo', label='Training Loss')\n",
    "    plt.plot(epochs, val_loss_vals, 'b', label='Validation Loss')\n",
    "    plt.title(\"Training and validation loss\")\n",
    "    plt.xlabel('Epochs')\n",
    "    plt.ylabel('Loss')\n",
    "    plt.legend()\n",
    "\n",
    "    plt.subplot(1, 2, 2)\n",
    "    acc_vals = history_dict['binary_accuracy'] if bin_acc else history_dict['acc']\n",
    "    val_acc_vals = history_dict['val_binary_accuracy'] if bin_acc else history_dict['val_acc']\n",
    "    plt.plot(epochs, acc_vals, 'bo', label='Training accuracy')\n",
    "    plt.plot(epochs, val_acc_vals, 'b', label='Validation accuracy')\n",
    "    plt.title(\"Training and validation Accuracy\")\n",
    "    plt.xlabel('Epochs')\n",
    "    plt.ylabel('Loss')\n",
    "    plt.legend()\n",
    "    # plt.savefig(\"../doc/graphs/val_loss_acc_epochs_task1.png\")\n",
    "    plt.show()\n",
    "    return"
   ]
  },
  {
   "cell_type": "code",
   "execution_count": 98,
   "metadata": {},
   "outputs": [
    {
     "name": "stdout",
     "output_type": "stream",
     "text": [
      "Train on 6400 samples, validate on 800 samples\n",
      "Epoch 1/12\n",
      "6400/6400 [==============================] - 1s - loss: 1.8456 - acc: 0.2964 - val_loss: 1.5677 - val_acc: 0.4337\n",
      "Epoch 2/12\n",
      "6400/6400 [==============================] - 0s - loss: 1.5289 - acc: 0.4477 - val_loss: 1.4358 - val_acc: 0.4713\n",
      "Epoch 3/12\n",
      "6400/6400 [==============================] - 0s - loss: 1.4249 - acc: 0.4873 - val_loss: 1.3650 - val_acc: 0.5125\n",
      "Epoch 4/12\n",
      "6400/6400 [==============================] - 0s - loss: 1.3279 - acc: 0.5272 - val_loss: 1.3351 - val_acc: 0.5325\n",
      "Epoch 5/12\n",
      "6400/6400 [==============================] - 0s - loss: 1.2636 - acc: 0.5472 - val_loss: 1.3263 - val_acc: 0.5337\n",
      "Epoch 6/12\n",
      "6400/6400 [==============================] - 0s - loss: 1.2280 - acc: 0.5641 - val_loss: 1.3528 - val_acc: 0.5275\n",
      "Epoch 7/12\n",
      "6400/6400 [==============================] - 0s - loss: 1.1840 - acc: 0.5855 - val_loss: 1.3844 - val_acc: 0.5212\n",
      "Epoch 8/12\n",
      "6400/6400 [==============================] - 0s - loss: 1.1448 - acc: 0.5923 - val_loss: 1.3622 - val_acc: 0.5212\n",
      "Epoch 9/12\n",
      "6400/6400 [==============================] - 0s - loss: 1.0849 - acc: 0.6097 - val_loss: 1.4081 - val_acc: 0.5288\n",
      "Epoch 10/12\n",
      "6400/6400 [==============================] - 0s - loss: 1.0723 - acc: 0.6211 - val_loss: 1.3453 - val_acc: 0.5375\n",
      "Epoch 11/12\n",
      "6400/6400 [==============================] - 0s - loss: 1.0295 - acc: 0.6333 - val_loss: 1.3688 - val_acc: 0.5438\n",
      "Epoch 12/12\n",
      "6400/6400 [==============================] - 0s - loss: 0.9874 - acc: 0.6514 - val_loss: 1.3933 - val_acc: 0.5437\n",
      "dict_keys(['val_loss', 'val_acc', 'loss', 'acc'])\n",
      "avg accuracy 0.5469270833333334\n",
      "val avg accuracy 0.5172916651765506\n"
     ]
    },
    {
     "data": {
      "image/png": "[encoded data removed]",
      "text/plain": [
       "<Figure size 1224x360 with 2 Axes>"
      ]
     },
     "metadata": {
      "needs_background": "light"
     },
     "output_type": "display_data"
    },
    {
     "name": "stdout",
     "output_type": "stream",
     "text": [
      " 32/800 [>.............................] - ETA: 0s\n",
      " Test Accuracy 43.5\n"
     ]
    },
    {
     "data": {
      "text/plain": [
       "<keras.models.Sequential at 0x28322133708>"
      ]
     },
     "execution_count": 98,
     "metadata": {},
     "output_type": "execute_result"
    }
   ],
   "source": [
    "\n",
    "def build_train_validate(x_train, y_train, input_shape, x_val, y_val):\n",
    "    # Build the network\n",
    "    model = generate_model(input_shape)\n",
    "\n",
    "#     # Training and validation\n",
    "    history = model.fit(x_train, y_train, nb_epoch=12, batch_size=512, validation_data=(x_val, y_val))\n",
    "    history_dict = history.history\n",
    "    print(history_dict.keys())\n",
    "    print(f'avg accuracy {np.mean(history_dict[\"acc\"])}')\n",
    "    print(f'val avg accuracy {np.mean(history_dict[\"val_acc\"])}')\n",
    "    plot_epocs_graph(history_dict, False)\n",
    "    results = model.evaluate(x_test, y_test)\n",
    "    print(f'\\n Test Accuracy {results[1]*100}')\n",
    "    return model\n",
    "\n",
    "build_train_validate(x_train, y_train, x_train.shape[1:], x_val, y_val)"
   ]
  },
  {
   "cell_type": "markdown",
   "metadata": {},
   "source": [
    "### 5.2 From audio"
   ]
  }
 ],
 "metadata": {
  "kernelspec": {
   "display_name": "Python 3",
   "language": "python",
   "name": "python3"
  },
  "language_info": {
   "codemirror_mode": {
    "name": "ipython",
    "version": 3
   },
   "file_extension": ".py",
   "mimetype": "text/x-python",
   "name": "python",
   "nbconvert_exporter": "python",
   "pygments_lexer": "ipython3",
   "version": "3.7.6rc1"
  }
 },
 "nbformat": 4,
 "nbformat_minor": 2
}
