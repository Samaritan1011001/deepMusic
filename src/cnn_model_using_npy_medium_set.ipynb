{
 "cells": [
  {
   "cell_type": "code",
   "execution_count": 1,
   "metadata": {
    "colab": {
     "base_uri": "https://localhost:8080/",
     "height": 254
    },
    "colab_type": "code",
    "id": "bKYM_pGyTWXe",
    "outputId": "1d1e3eb0-7e8b-461d-c96c-15c1a16422a2",
    "pycharm": {
     "is_executing": false
    }
   },
   "outputs": [
    {
     "name": "stdout",
     "output_type": "stream",
     "text": [
      "Requirement already satisfied: python_speech_features in c:\\users\\bisar\\appdata\\local\\programs\\python\\python37\\lib\\site-packages (0.6)\n",
      "Requirement already satisfied: python-dotenv in c:\\users\\bisar\\appdata\\local\\programs\\python\\python37\\lib\\site-packages (0.12.0)\n"
     ]
    }
   ],
   "source": [
    "!pip install python_speech_features\n",
    "!pip install python-dotenv \n"
   ]
  },
  {
   "cell_type": "code",
   "execution_count": 2,
   "metadata": {
    "colab": {
     "base_uri": "https://localhost:8080/",
     "height": 170
    },
    "colab_type": "code",
    "id": "xnbYpwQmb9vl",
    "outputId": "32e6b4a5-5209-4c0d-9128-2eab2fcef219",
    "pycharm": {
     "is_executing": false
    }
   },
   "outputs": [
    {
     "name": "stdout",
     "output_type": "stream",
     "text": [
      "Requirement already up-to-date: keras in c:\\users\\bisar\\appdata\\local\\programs\\python\\python37\\lib\\site-packages (2.3.1)\n",
      "Requirement already satisfied, skipping upgrade: six>=1.9.0 in c:\\users\\bisar\\appdata\\local\\programs\\python\\python37\\lib\\site-packages (from keras) (1.13.0)\n",
      "Requirement already satisfied, skipping upgrade: pyyaml in c:\\users\\bisar\\appdata\\local\\programs\\python\\python37\\lib\\site-packages (from keras) (5.3)\n",
      "Requirement already satisfied, skipping upgrade: scipy>=0.14 in c:\\users\\bisar\\appdata\\local\\programs\\python\\python37\\lib\\site-packages (from keras) (1.4.1)\n",
      "Requirement already satisfied, skipping upgrade: keras-preprocessing>=1.0.5 in c:\\users\\bisar\\appdata\\local\\programs\\python\\python37\\lib\\site-packages (from keras) (1.1.0)\n",
      "Requirement already satisfied, skipping upgrade: h5py in c:\\users\\bisar\\appdata\\local\\programs\\python\\python37\\lib\\site-packages (from keras) (2.10.0)\n",
      "Requirement already satisfied, skipping upgrade: keras-applications>=1.0.6 in c:\\users\\bisar\\appdata\\local\\programs\\python\\python37\\lib\\site-packages (from keras) (1.0.8)\n",
      "Requirement already satisfied, skipping upgrade: numpy>=1.9.1 in c:\\users\\bisar\\appdata\\local\\programs\\python\\python37\\lib\\site-packages (from keras) (1.18.0)\n"
     ]
    }
   ],
   "source": [
    "!pip install keras --upgrade"
   ]
  },
  {
   "cell_type": "code",
   "execution_count": 3,
   "metadata": {
    "colab": {},
    "colab_type": "code",
    "id": "jcPEqN0nU5yc",
    "pycharm": {
     "is_executing": false
    }
   },
   "outputs": [],
   "source": [
    "# !pip list librosa"
   ]
  },
  {
   "cell_type": "code",
   "execution_count": 22,
   "metadata": {
    "colab": {
     "base_uri": "https://localhost:8080/",
     "height": 50
    },
    "colab_type": "code",
    "id": "jnRPrBVPP2lj",
    "outputId": "c0df3348-af71-4292-a860-557720e9f221",
    "pycharm": {
     "is_executing": true
    }
   },
   "outputs": [
    {
     "name": "stdout",
     "output_type": "stream",
     "text": [
      "tf.__version__ is 2.1.0\n",
      "tf.keras.__version__ is: 2.2.4-tf\n"
     ]
    }
   ],
   "source": [
    "import time\n",
    "import numpy as np\n",
    "import pandas as pd\n",
    "from python_speech_features import mfcc\n",
    "import os\n",
    "from keras import layers\n",
    "from keras import models\n",
    "import keras\n",
    "from keras import optimizers\n",
    "from keras import regularizers\n",
    "from keras import activations\n",
    "from keras import backend as K\n",
    "from keras.utils.data_utils import get_file\n",
    "\n",
    "from sklearn.preprocessing import LabelEncoder, LabelBinarizer\n",
    "import sys\n",
    "sys.path.append('/content/drive/My Drive/cs577- Deep learning/deepMusic/')\n",
    "from src.helper import utils\n",
    "from sklearn import preprocessing\n",
    "import librosa\n",
    "import matplotlib.pyplot as plt\n",
    "import librosa.display\n",
    "from sklearn.utils.class_weight import compute_class_weight\n",
    "from math import floor\n",
    "from sklearn.metrics import classification_report, confusion_matrix\n",
    "\n",
    "\n",
    "import tensorflow as tf\n",
    "import keras.backend.tensorflow_backend as tfback\n",
    "print(\"tf.__version__ is\", tf.__version__)\n",
    "print(\"tf.keras.__version__ is:\", tf.keras.__version__)\n",
    "\n",
    "def _get_available_gpus():\n",
    "    \"\"\"Get a list of available gpu devices (formatted as strings).\n",
    "\n",
    "    # Returns\n",
    "        A list of available GPU devices.\n",
    "    \"\"\"\n",
    "    #global _LOCAL_DEVICES\n",
    "    if tfback._LOCAL_DEVICES is None:\n",
    "        devices = tf.config.list_logical_devices()\n",
    "        tfback._LOCAL_DEVICES = [x.name for x in devices]\n",
    "    return [x for x in tfback._LOCAL_DEVICES if 'device:gpu' in x.lower()]\n",
    "\n",
    "tfback._get_available_gpus = _get_available_gpus\n",
    "\n"
   ]
  },
  {
   "cell_type": "code",
   "execution_count": 8,
   "metadata": {
    "colab": {},
    "colab_type": "code",
    "id": "rkycMAkFYqAv",
    "pycharm": {
     "is_executing": true
    }
   },
   "outputs": [],
   "source": [
    "root_folder = \"D:\\Code\\Desktop\\IIT\\Courses\\Spring 2020\\Deep Learning\\FInal Project\\github_project\\music_analysis_fp\\\\\"\n",
    "subset_config = {\n",
    "    \"audio_dir\": \"fma_small\",\n",
    "    \"subset\": \"small\"\n",
    "}\n",
    "\n",
    "gen_params = {\n",
    "    'dim': (96, 1366),\n",
    "    # 'dim': (96, 469),\n",
    "    'batch_size': 10,\n",
    "    'n_classes': 4,\n",
    "    'n_channels': 1,\n",
    "    'shuffle': True\n",
    "}\n",
    "\n",
    "\n",
    "config = {\n",
    "    'audio_dir': root_folder + \"data/\" + subset_config['audio_dir'],\n",
    "    'tracks': root_folder + 'data/fma_metadata/cleaned_' + subset_config['subset'] + '.csv',\n",
    "    'generator_params': gen_params,\n",
    "    'audio_loader': utils.FfmpegLoader()\n",
    "}\n"
   ]
  },
  {
   "cell_type": "code",
   "execution_count": 13,
   "metadata": {
    "colab": {
     "base_uri": "https://localhost:8080/",
     "height": 84
    },
    "colab_type": "code",
    "id": "3QGhVxKbXLqm",
    "outputId": "a4e665ac-ae03-42d3-a940-88990e3b2bb6",
    "pycharm": {
     "is_executing": true
    }
   },
   "outputs": [
    {
     "name": "stdout",
     "output_type": "stream",
     "text": [
      "y_train -> (3190, 4)\n",
      "x_train -> (3190, 1, 96, 469)\n",
      "x_val -> 400\n",
      "x_test -> 400\n"
     ]
    }
   ],
   "source": [
    "# Load npy files\n",
    "x_train = np.load(root_folder + \"data/npy_files/\" + subset_config['subset'] + \"/x_train.npy\")\n",
    "y_train = np.load(root_folder + \"data/npy_files/\" + subset_config['subset'] + \"/y_train.npy\")\n",
    "\n",
    "x_val = (np.load(root_folder + \"data/npy_files/\" + subset_config['subset'] + \"/x_val.npy\"))\n",
    "y_val = (np.load(root_folder + \"data/npy_files/\" + subset_config['subset'] + \"/y_val.npy\"))\n",
    "\n",
    "x_test = (np.load(root_folder + \"data/npy_files/\" + subset_config['subset'] + \"/x_test.npy\"))\n",
    "y_test = (np.load(root_folder + \"data/npy_files/\" + subset_config['subset'] + \"/y_test.npy\"))\n",
    "\n",
    "x_train = x_train.reshape((x_train.shape[0]*x_train.shape[1],x_train.shape[2],x_train.shape[3],x_train.shape[4]))\n",
    "x_val = x_val.reshape((x_val.shape[0]*x_val.shape[1],x_val.shape[2],x_val.shape[3],x_val.shape[4]))\n",
    "x_test = x_test.reshape((x_test.shape[0]*x_test.shape[1],x_test.shape[2],x_test.shape[3],x_test.shape[4]))\n",
    "\n",
    "y_train = y_train.reshape((y_train.shape[0]*y_train.shape[1],y_train.shape[2]))\n",
    "y_val = y_val.reshape((y_val.shape[0]*y_val.shape[1],y_val.shape[2]))\n",
    "y_test = y_test.reshape((y_test.shape[0]*y_test.shape[1],y_test.shape[2]))\n",
    "\n",
    "print(f'y_train -> {y_train.shape}')\n",
    "print(f'x_train -> {x_train.shape}')\n",
    "print(f'x_val -> {len(x_val)}')\n",
    "print(f'x_test -> {len(x_test)}')"
   ]
  },
  {
   "cell_type": "code",
   "execution_count": 11,
   "metadata": {
    "colab": {},
    "colab_type": "code",
    "id": "t2J3kgdVUaaB",
    "pycharm": {
     "is_executing": true
    }
   },
   "outputs": [],
   "source": [
    "def plot_mel_spect(spect):\n",
    "    # spect = spect.flatten()\n",
    "    # print(spect)\n",
    "    plt.figure(figsize=(10, 5))\n",
    "    librosa.display.specshow(spect.T, y_axis='mel', x_axis='time')\n",
    "    plt.colorbar(format='%+2.0f dB')\n",
    "    plt.title('Test Melspectogram')\n",
    "    plt.show()"
   ]
  },
  {
   "cell_type": "code",
   "execution_count": 14,
   "metadata": {
    "colab": {
     "base_uri": "https://localhost:8080/",
     "height": 350
    },
    "colab_type": "code",
    "id": "f5D0VwyAabIO",
    "outputId": "634e05ca-80b9-4ab7-c185-0c171ba48283",
    "pycharm": {
     "is_executing": true
    }
   },
   "outputs": [
    {
     "data": {
      "image/png": "[encoded data removed]",
      "text/plain": [
       "<Figure size 720x360 with 2 Axes>"
      ]
     },
     "metadata": {
      "needs_background": "light"
     },
     "output_type": "display_data"
    }
   ],
   "source": [
    "plot_mel_spect(x_train[0][0])"
   ]
  },
  {
   "cell_type": "code",
   "execution_count": 15,
   "metadata": {
    "colab": {},
    "colab_type": "code",
    "id": "8vs1X2R3d_E1",
    "pycharm": {
     "is_executing": true
    }
   },
   "outputs": [],
   "source": [
    "def plot_epocs_graph(history_dict,i):\n",
    "    loss_vals = history_dict['loss']\n",
    "    val_loss_vals = history_dict['val_loss']\n",
    "    epochs = range(1, len(history_dict['acc']) + 1)\n",
    "    plt.subplot(1, 2, 1)\n",
    "    plt.plot(epochs, loss_vals, 'g', label='Training Loss')\n",
    "    plt.plot(epochs, val_loss_vals, 'b', label='Validation Loss')\n",
    "    plt.title(\"Training and validation loss\")\n",
    "    plt.xlabel('Epochs')\n",
    "    plt.ylabel('Loss')\n",
    "    plt.legend()\n",
    "\n",
    "    plt.subplot(1, 2, 2)\n",
    "    acc_vals = history_dict['acc']\n",
    "    val_acc_vals = history_dict['val_acc']\n",
    "    plt.plot(epochs, acc_vals, 'g', label='Training accuracy')\n",
    "    plt.plot(epochs, val_acc_vals, 'b', label='Validation accuracy')\n",
    "    plt.title(\"Training and validation Accuracy\")\n",
    "    plt.xlabel('Epochs')\n",
    "    plt.ylabel('Loss')\n",
    "    plt.legend()\n",
    "    plt.savefig(root_folder + f'graphs/log{i}.png')\n",
    "    plt.show()\n",
    "    return"
   ]
  },
  {
   "cell_type": "code",
   "execution_count": 16,
   "metadata": {
    "colab": {},
    "colab_type": "code",
    "id": "LorFXUYGmK92",
    "pycharm": {
     "is_executing": true
    }
   },
   "outputs": [],
   "source": [
    "'''\n",
    "USE THIS FOR MEDIUM DATASET\n",
    "'''\n",
    "\n",
    "def pop_layer(model):\n",
    "    if not model.outputs:\n",
    "        raise Exception('Sequential model cannot be popped: model is empty.')\n",
    "\n",
    "    model.layers.pop()\n",
    "    if not model.layers:\n",
    "        model.outputs = []\n",
    "        model.inbound_nodes = []\n",
    "        model.outbound_nodes = []\n",
    "    else:\n",
    "        model.layers[-1].outbound_nodes = []\n",
    "        model.outputs = [model.layers[-1].output]\n",
    "    model.built = False\n",
    "\n",
    "\n",
    "def MusicTaggerCRNN(weights='msd', input_tensor=None):\n",
    "    '''Instantiate the MusicTaggerCRNN architecture,\n",
    "    optionally loading weights pre-trained\n",
    "    on Million Song Dataset. Note that when using TensorFlow,\n",
    "    for best performance you should set\n",
    "    `image_dim_ordering=\"tf\"` in your Keras config\n",
    "    at ~/.keras/keras.json.\n",
    "\n",
    "    The model and the weights are compatible with both\n",
    "    TensorFlow and Theano. The dimension ordering\n",
    "    convention used by the model is the one\n",
    "    specified in your Keras config file.\n",
    "\n",
    "    For preparing mel-spectrogram input, see\n",
    "    `audio_conv_utils.py` in [applications](https://github.com/fchollet/keras/tree/master/keras/applications).\n",
    "    You will need to install [Librosa](http://librosa.github.io/librosa/)\n",
    "    to use it.\n",
    "\n",
    "    # Arguments\n",
    "        weights: one of `None` (random initialization)\n",
    "            or \"msd\" (pre-training on ImageNet).\n",
    "        input_tensor: optional Keras tensor (i.e. output of `layers.Input()`)\n",
    "            to use as image input for the model.\n",
    "    # Returns\n",
    "        A Keras model instance.\n",
    "    '''\n",
    "    K.clear_session()\n",
    "    K.set_image_data_format('channels_first')\n",
    "    if weights not in {'msd', None}:\n",
    "        raise ValueError('The `weights` argument should be either '\n",
    "                         '`None` (random initialization) or `msd` '\n",
    "                         '(pre-training on Million Song Dataset).')\n",
    "\n",
    "    # Determine proper input shape\n",
    "    if K.image_data_format() == 'channels_first':\n",
    "        input_shape = (1, 96, 1366)\n",
    "    else:\n",
    "        input_shape = (96, 1366, 1)\n",
    "\n",
    "    if input_tensor is None:\n",
    "        melgram_input = layers.Input(shape=input_shape)\n",
    "    else:\n",
    "        melgram_input = layers.Input(shape=input_tensor)\n",
    "\n",
    "    # Determine input axis\n",
    "    if K.image_data_format() == 'channels_first':\n",
    "        channel_axis = 1\n",
    "        freq_axis = 2\n",
    "        time_axis = 3\n",
    "    else:\n",
    "        channel_axis = 3\n",
    "        freq_axis = 1\n",
    "        time_axis = 2\n",
    "\n",
    "    # Input block\n",
    "    # x = layers.ZeroPadding2D(padding=(0, 37))(melgram_input)\n",
    "    # x = layers.BatchNormalization(axis=time_axis, name='bn_0_freq')(x)\n",
    "\n",
    "    # Conv block 1\n",
    "    x = layers.Convolution2D(16,(2, 2), border_mode='same', name='conv1',activation= 'selu', trainable=True,kernel_initializer='lecun_normal')(melgram_input)\n",
    "    x = layers.BatchNormalization(axis=channel_axis, mode=0, name='bn1', trainable=True)(x)\n",
    "    # x = layers.ReLU()(x)\n",
    "    x = layers.MaxPooling2D(pool_size=(3, 3), strides=(3, 3), name='pool1')(x)\n",
    "    x = layers.AlphaDropout(0.1, name='dropout1', trainable=True)(x)\n",
    "\n",
    "    # Conv block 2\n",
    "    x = layers.Convolution2D(32,(2, 2), border_mode='same', name='conv2',activation= 'selu', trainable=True,kernel_initializer='lecun_normal')(x)\n",
    "    x = layers.BatchNormalization(axis=channel_axis, mode=0, name='bn2', trainable=True)(x)\n",
    "    # x = layers.ReLU()(x)\n",
    "    x = layers.MaxPooling2D(pool_size=(3, 3), strides=(3, 3), name='pool2')(x)\n",
    "    x = layers.AlphaDropout(0.1, name='dropout2', trainable=True)(x)\n",
    "\n",
    "    # # Conv block 3\n",
    "    x = layers.Convolution2D(32,(3, 3), border_mode='same', name='conv3',activation= 'selu', trainable=True, kernel_initializer='lecun_normal')(x)\n",
    "    x = layers.BatchNormalization(axis=channel_axis, mode=0, name='bn3', trainable=True)(x)\n",
    "    # x = layers.ReLU()(x)\n",
    "    x = layers.MaxPooling2D(pool_size=(3, 3), strides=(3, 3), name='pool3')(x)\n",
    "    x = layers.AlphaDropout(0.1, name='dropout3', trainable=True)(x)\n",
    "\n",
    "\n",
    "    # reshaping\n",
    "    if K.image_data_format() == 'channels_first':\n",
    "        x = layers.Permute((3, 1, 2))(x)\n",
    "    # print(f'permute size -> {x.shape}')\n",
    "    shape = x.get_shape().as_list()\n",
    "    x = layers.Reshape((shape[1]*shape[-1],shape[2]))(x)\n",
    "\n",
    "    # GRU block 1, 2, output\n",
    "    x = layers.GRU(8, return_sequences=True, name='gru1')(x)\n",
    "    x = layers.GRU(8, return_sequences=False, name='gru2')(x)\n",
    "    x = layers.AlphaDropout(0.3, name='final_drop')(x)\n",
    "\n",
    "    ## LSTM Layer\n",
    "    # layer = LSTM(96,return_sequences=False)(x)\n",
    "    # x = Dropout(0.4)(layer)\n",
    "    # print(f'lstm layer -> {layer.shape}')\n",
    "\n",
    "    if weights is None:\n",
    "        x = layers.Dense(128, activation='relu', name='hidden1')(x)\n",
    "        x = layers.Dense(4, activation='softmax', name='output')(x)\n",
    "        print(f'x.shape -> {x.shape}')\n",
    "\n",
    "        model = models.Model(melgram_input, x)\n",
    "        # model.summary()\n",
    "        return model\n",
    "        # return x\n",
    "    else:\n",
    "        # Load input\n",
    "        x = layers.Dense(10, activation='sigmoid', name='output')(x)\n",
    "        if K.image_data_format() == 'channels_last':\n",
    "            raise RuntimeError(\"Please set image_dim_ordering == 'th'.\"\n",
    "                               \"You can set it at ~/.keras/keras.json\")\n",
    "        # Create model\n",
    "        initial_model = models.Model(melgram_input, x)\n",
    "        initial_model.load_weights('/content/crnn_net_gru_adam_ours_epoch_40.h5')\n",
    "\n",
    "        # Eliminate last layer\n",
    "        pop_layer(initial_model)\n",
    "        pop_layer(initial_model)\n",
    "        # Add new Dense layer\n",
    "        last = initial_model.get_layer('gru2')\n",
    "        preds = layers.Dense(4, activation='sigmoid', name='preds')(last.output)\n",
    "        model = models.Model(initial_model.input, preds)\n",
    "\n",
    "        # TO extend this model use this,\n",
    "        # model = Model(initial_model.input, initial_model.get_layer('dropout2').output)\n",
    "\n",
    "        return model"
   ]
  },
  {
   "cell_type": "code",
   "execution_count": 20,
   "metadata": {
    "colab": {},
    "colab_type": "code",
    "id": "gIlwabedesd4",
    "pycharm": {
     "is_executing": true
    }
   },
   "outputs": [],
   "source": [
    "network_config = {\n",
    "#     'input_shape' : (1,96,1366),\n",
    "    'input_shape' : (1,96,469),\n",
    "    'loss' : 'categorical_crossentropy',\n",
    "    'optimizer' : optimizers.Adam(learning_rate=0.0001),\n",
    "    'metrics' : ['acc'],\n",
    "    'epochs' : 2,\n",
    "    'batch_size':128,\n",
    "\n",
    "}"
   ]
  },
  {
   "cell_type": "code",
   "execution_count": 23,
   "metadata": {
    "colab": {
     "base_uri": "https://localhost:8080/",
     "height": 1000
    },
    "colab_type": "code",
    "id": "thaLUsaWSQBb",
    "outputId": "8899e71c-e391-4495-ac2f-4ab05d83cfdb",
    "pycharm": {
     "is_executing": true
    }
   },
   "outputs": [
    {
     "name": "stderr",
     "output_type": "stream",
     "text": [
      "c:\\users\\bisar\\appdata\\local\\programs\\python\\python37\\lib\\site-packages\\ipykernel_launcher.py:79: UserWarning: Update your `Conv2D` call to the Keras 2 API: `Conv2D(16, (2, 2), name=\"conv1\", activation=\"selu\", trainable=True, kernel_initializer=\"lecun_normal\", padding=\"same\")`\n",
      "c:\\users\\bisar\\appdata\\local\\programs\\python\\python37\\lib\\site-packages\\ipykernel_launcher.py:80: UserWarning: Update your `BatchNormalization` call to the Keras 2 API: `BatchNormalization(axis=1, name=\"bn1\", trainable=True)`\n",
      "c:\\users\\bisar\\appdata\\local\\programs\\python\\python37\\lib\\site-packages\\ipykernel_launcher.py:86: UserWarning: Update your `Conv2D` call to the Keras 2 API: `Conv2D(32, (2, 2), name=\"conv2\", activation=\"selu\", trainable=True, kernel_initializer=\"lecun_normal\", padding=\"same\")`\n",
      "c:\\users\\bisar\\appdata\\local\\programs\\python\\python37\\lib\\site-packages\\ipykernel_launcher.py:87: UserWarning: Update your `BatchNormalization` call to the Keras 2 API: `BatchNormalization(axis=1, name=\"bn2\", trainable=True)`\n",
      "c:\\users\\bisar\\appdata\\local\\programs\\python\\python37\\lib\\site-packages\\ipykernel_launcher.py:93: UserWarning: Update your `Conv2D` call to the Keras 2 API: `Conv2D(32, (3, 3), name=\"conv3\", activation=\"selu\", trainable=True, kernel_initializer=\"lecun_normal\", padding=\"same\")`\n",
      "c:\\users\\bisar\\appdata\\local\\programs\\python\\python37\\lib\\site-packages\\ipykernel_launcher.py:94: UserWarning: Update your `BatchNormalization` call to the Keras 2 API: `BatchNormalization(axis=1, name=\"bn3\", trainable=True)`\n"
     ]
    },
    {
     "name": "stdout",
     "output_type": "stream",
     "text": [
      "x.shape -> (None, 4)\n",
      "Model: \"model_1\"\n",
      "_________________________________________________________________\n",
      "Layer (type)                 Output Shape              Param #   \n",
      "=================================================================\n",
      "input_1 (InputLayer)         (None, 1, 96, 469)        0         \n",
      "_________________________________________________________________\n",
      "conv1 (Conv2D)               (None, 16, 96, 469)       80        \n",
      "_________________________________________________________________\n",
      "bn1 (BatchNormalization)     (None, 16, 96, 469)       64        \n",
      "_________________________________________________________________\n",
      "pool1 (MaxPooling2D)         (None, 16, 32, 156)       0         \n",
      "_________________________________________________________________\n",
      "dropout1 (AlphaDropout)      (None, 16, 32, 156)       0         \n",
      "_________________________________________________________________\n",
      "conv2 (Conv2D)               (None, 32, 32, 156)       2080      \n",
      "_________________________________________________________________\n",
      "bn2 (BatchNormalization)     (None, 32, 32, 156)       128       \n",
      "_________________________________________________________________\n",
      "pool2 (MaxPooling2D)         (None, 32, 10, 52)        0         \n",
      "_________________________________________________________________\n",
      "dropout2 (AlphaDropout)      (None, 32, 10, 52)        0         \n",
      "_________________________________________________________________\n",
      "conv3 (Conv2D)               (None, 32, 10, 52)        9248      \n",
      "_________________________________________________________________\n",
      "bn3 (BatchNormalization)     (None, 32, 10, 52)        128       \n",
      "_________________________________________________________________\n",
      "pool3 (MaxPooling2D)         (None, 32, 3, 17)         0         \n",
      "_________________________________________________________________\n",
      "dropout3 (AlphaDropout)      (None, 32, 3, 17)         0         \n",
      "_________________________________________________________________\n",
      "permute_1 (Permute)          (None, 17, 32, 3)         0         \n",
      "_________________________________________________________________\n",
      "reshape_1 (Reshape)          (None, 51, 32)            0         \n",
      "_________________________________________________________________\n",
      "gru1 (GRU)                   (None, 51, 8)             984       \n",
      "_________________________________________________________________\n",
      "gru2 (GRU)                   (None, 8)                 408       \n",
      "_________________________________________________________________\n",
      "final_drop (AlphaDropout)    (None, 8)                 0         \n",
      "_________________________________________________________________\n",
      "hidden1 (Dense)              (None, 128)               1152      \n",
      "_________________________________________________________________\n",
      "output (Dense)               (None, 4)                 516       \n",
      "=================================================================\n",
      "Total params: 14,788\n",
      "Trainable params: 14,628\n",
      "Non-trainable params: 160\n",
      "_________________________________________________________________\n",
      "Train on 3190 samples, validate on 400 samples\n",
      "Epoch 1/2\n"
     ]
    },
    {
     "ename": "UnknownError",
     "evalue": " Failed to get convolution algorithm. This is probably because cuDNN failed to initialize, so try looking to see if a warning log message was printed above.\n\t [[node conv1/convolution (defined at c:\\users\\bisar\\appdata\\local\\programs\\python\\python37\\lib\\site-packages\\keras\\backend\\tensorflow_backend.py:3009) ]] [Op:__inference_keras_scratch_graph_14710]\n\nFunction call stack:\nkeras_scratch_graph\n",
     "output_type": "error",
     "traceback": [
      "\u001b[1;31m---------------------------------------------------------------------------\u001b[0m",
      "\u001b[1;31mUnknownError\u001b[0m                              Traceback (most recent call last)",
      "\u001b[1;32m<ipython-input-23-57ba4cb15410>\u001b[0m in \u001b[0;36m<module>\u001b[1;34m\u001b[0m\n\u001b[0;32m     10\u001b[0m                               \u001b[0mbatch_size\u001b[0m\u001b[1;33m=\u001b[0m\u001b[0mnetwork_config\u001b[0m\u001b[1;33m[\u001b[0m\u001b[1;34m'batch_size'\u001b[0m\u001b[1;33m]\u001b[0m\u001b[1;33m,\u001b[0m\u001b[1;33m\u001b[0m\u001b[1;33m\u001b[0m\u001b[0m\n\u001b[0;32m     11\u001b[0m                               \u001b[0mepochs\u001b[0m\u001b[1;33m=\u001b[0m\u001b[0mnetwork_config\u001b[0m\u001b[1;33m[\u001b[0m\u001b[1;34m'epochs'\u001b[0m\u001b[1;33m]\u001b[0m\u001b[1;33m,\u001b[0m\u001b[1;33m\u001b[0m\u001b[1;33m\u001b[0m\u001b[0m\n\u001b[1;32m---> 12\u001b[1;33m                               validation_data = (x_val, y_val))\n\u001b[0m\u001b[0;32m     13\u001b[0m \u001b[0mhistory_dict\u001b[0m \u001b[1;33m=\u001b[0m \u001b[0mtrain_val_history\u001b[0m\u001b[1;33m.\u001b[0m\u001b[0mhistory\u001b[0m\u001b[1;33m\u001b[0m\u001b[1;33m\u001b[0m\u001b[0m\n\u001b[0;32m     14\u001b[0m \u001b[0mplot_epocs_graph\u001b[0m\u001b[1;33m(\u001b[0m\u001b[0mhistory_dict\u001b[0m\u001b[1;33m=\u001b[0m\u001b[0mhistory_dict\u001b[0m\u001b[1;33m,\u001b[0m\u001b[0mi\u001b[0m\u001b[1;33m=\u001b[0m\u001b[1;36m17\u001b[0m\u001b[1;33m)\u001b[0m\u001b[1;33m\u001b[0m\u001b[1;33m\u001b[0m\u001b[0m\n",
      "\u001b[1;32mc:\\users\\bisar\\appdata\\local\\programs\\python\\python37\\lib\\site-packages\\keras\\engine\\training.py\u001b[0m in \u001b[0;36mfit\u001b[1;34m(self, x, y, batch_size, epochs, verbose, callbacks, validation_split, validation_data, shuffle, class_weight, sample_weight, initial_epoch, steps_per_epoch, validation_steps, validation_freq, max_queue_size, workers, use_multiprocessing, **kwargs)\u001b[0m\n\u001b[0;32m   1237\u001b[0m                                         \u001b[0msteps_per_epoch\u001b[0m\u001b[1;33m=\u001b[0m\u001b[0msteps_per_epoch\u001b[0m\u001b[1;33m,\u001b[0m\u001b[1;33m\u001b[0m\u001b[1;33m\u001b[0m\u001b[0m\n\u001b[0;32m   1238\u001b[0m                                         \u001b[0mvalidation_steps\u001b[0m\u001b[1;33m=\u001b[0m\u001b[0mvalidation_steps\u001b[0m\u001b[1;33m,\u001b[0m\u001b[1;33m\u001b[0m\u001b[1;33m\u001b[0m\u001b[0m\n\u001b[1;32m-> 1239\u001b[1;33m                                         validation_freq=validation_freq)\n\u001b[0m\u001b[0;32m   1240\u001b[0m \u001b[1;33m\u001b[0m\u001b[0m\n\u001b[0;32m   1241\u001b[0m     def evaluate(self,\n",
      "\u001b[1;32mc:\\users\\bisar\\appdata\\local\\programs\\python\\python37\\lib\\site-packages\\keras\\engine\\training_arrays.py\u001b[0m in \u001b[0;36mfit_loop\u001b[1;34m(model, fit_function, fit_inputs, out_labels, batch_size, epochs, verbose, callbacks, val_function, val_inputs, shuffle, initial_epoch, steps_per_epoch, validation_steps, validation_freq)\u001b[0m\n\u001b[0;32m    194\u001b[0m                     \u001b[0mins_batch\u001b[0m\u001b[1;33m[\u001b[0m\u001b[0mi\u001b[0m\u001b[1;33m]\u001b[0m \u001b[1;33m=\u001b[0m \u001b[0mins_batch\u001b[0m\u001b[1;33m[\u001b[0m\u001b[0mi\u001b[0m\u001b[1;33m]\u001b[0m\u001b[1;33m.\u001b[0m\u001b[0mtoarray\u001b[0m\u001b[1;33m(\u001b[0m\u001b[1;33m)\u001b[0m\u001b[1;33m\u001b[0m\u001b[1;33m\u001b[0m\u001b[0m\n\u001b[0;32m    195\u001b[0m \u001b[1;33m\u001b[0m\u001b[0m\n\u001b[1;32m--> 196\u001b[1;33m                 \u001b[0mouts\u001b[0m \u001b[1;33m=\u001b[0m \u001b[0mfit_function\u001b[0m\u001b[1;33m(\u001b[0m\u001b[0mins_batch\u001b[0m\u001b[1;33m)\u001b[0m\u001b[1;33m\u001b[0m\u001b[1;33m\u001b[0m\u001b[0m\n\u001b[0m\u001b[0;32m    197\u001b[0m                 \u001b[0mouts\u001b[0m \u001b[1;33m=\u001b[0m \u001b[0mto_list\u001b[0m\u001b[1;33m(\u001b[0m\u001b[0mouts\u001b[0m\u001b[1;33m)\u001b[0m\u001b[1;33m\u001b[0m\u001b[1;33m\u001b[0m\u001b[0m\n\u001b[0;32m    198\u001b[0m                 \u001b[1;32mfor\u001b[0m \u001b[0ml\u001b[0m\u001b[1;33m,\u001b[0m \u001b[0mo\u001b[0m \u001b[1;32min\u001b[0m \u001b[0mzip\u001b[0m\u001b[1;33m(\u001b[0m\u001b[0mout_labels\u001b[0m\u001b[1;33m,\u001b[0m \u001b[0mouts\u001b[0m\u001b[1;33m)\u001b[0m\u001b[1;33m:\u001b[0m\u001b[1;33m\u001b[0m\u001b[1;33m\u001b[0m\u001b[0m\n",
      "\u001b[1;32mc:\\users\\bisar\\appdata\\local\\programs\\python\\python37\\lib\\site-packages\\tensorflow_core\\python\\keras\\backend.py\u001b[0m in \u001b[0;36m__call__\u001b[1;34m(self, inputs)\u001b[0m\n\u001b[0;32m   3725\u001b[0m         \u001b[0mvalue\u001b[0m \u001b[1;33m=\u001b[0m \u001b[0mmath_ops\u001b[0m\u001b[1;33m.\u001b[0m\u001b[0mcast\u001b[0m\u001b[1;33m(\u001b[0m\u001b[0mvalue\u001b[0m\u001b[1;33m,\u001b[0m \u001b[0mtensor\u001b[0m\u001b[1;33m.\u001b[0m\u001b[0mdtype\u001b[0m\u001b[1;33m)\u001b[0m\u001b[1;33m\u001b[0m\u001b[1;33m\u001b[0m\u001b[0m\n\u001b[0;32m   3726\u001b[0m       \u001b[0mconverted_inputs\u001b[0m\u001b[1;33m.\u001b[0m\u001b[0mappend\u001b[0m\u001b[1;33m(\u001b[0m\u001b[0mvalue\u001b[0m\u001b[1;33m)\u001b[0m\u001b[1;33m\u001b[0m\u001b[1;33m\u001b[0m\u001b[0m\n\u001b[1;32m-> 3727\u001b[1;33m     \u001b[0moutputs\u001b[0m \u001b[1;33m=\u001b[0m \u001b[0mself\u001b[0m\u001b[1;33m.\u001b[0m\u001b[0m_graph_fn\u001b[0m\u001b[1;33m(\u001b[0m\u001b[1;33m*\u001b[0m\u001b[0mconverted_inputs\u001b[0m\u001b[1;33m)\u001b[0m\u001b[1;33m\u001b[0m\u001b[1;33m\u001b[0m\u001b[0m\n\u001b[0m\u001b[0;32m   3728\u001b[0m \u001b[1;33m\u001b[0m\u001b[0m\n\u001b[0;32m   3729\u001b[0m     \u001b[1;31m# EagerTensor.numpy() will often make a copy to ensure memory safety.\u001b[0m\u001b[1;33m\u001b[0m\u001b[1;33m\u001b[0m\u001b[1;33m\u001b[0m\u001b[0m\n",
      "\u001b[1;32mc:\\users\\bisar\\appdata\\local\\programs\\python\\python37\\lib\\site-packages\\tensorflow_core\\python\\eager\\function.py\u001b[0m in \u001b[0;36m__call__\u001b[1;34m(self, *args, **kwargs)\u001b[0m\n\u001b[0;32m   1549\u001b[0m       \u001b[0mTypeError\u001b[0m\u001b[1;33m:\u001b[0m \u001b[0mFor\u001b[0m \u001b[0minvalid\u001b[0m \u001b[0mpositional\u001b[0m\u001b[1;33m/\u001b[0m\u001b[0mkeyword\u001b[0m \u001b[0margument\u001b[0m \u001b[0mcombinations\u001b[0m\u001b[1;33m.\u001b[0m\u001b[1;33m\u001b[0m\u001b[1;33m\u001b[0m\u001b[0m\n\u001b[0;32m   1550\u001b[0m     \"\"\"\n\u001b[1;32m-> 1551\u001b[1;33m     \u001b[1;32mreturn\u001b[0m \u001b[0mself\u001b[0m\u001b[1;33m.\u001b[0m\u001b[0m_call_impl\u001b[0m\u001b[1;33m(\u001b[0m\u001b[0margs\u001b[0m\u001b[1;33m,\u001b[0m \u001b[0mkwargs\u001b[0m\u001b[1;33m)\u001b[0m\u001b[1;33m\u001b[0m\u001b[1;33m\u001b[0m\u001b[0m\n\u001b[0m\u001b[0;32m   1552\u001b[0m \u001b[1;33m\u001b[0m\u001b[0m\n\u001b[0;32m   1553\u001b[0m   \u001b[1;32mdef\u001b[0m \u001b[0m_call_impl\u001b[0m\u001b[1;33m(\u001b[0m\u001b[0mself\u001b[0m\u001b[1;33m,\u001b[0m \u001b[0margs\u001b[0m\u001b[1;33m,\u001b[0m \u001b[0mkwargs\u001b[0m\u001b[1;33m,\u001b[0m \u001b[0mcancellation_manager\u001b[0m\u001b[1;33m=\u001b[0m\u001b[1;32mNone\u001b[0m\u001b[1;33m)\u001b[0m\u001b[1;33m:\u001b[0m\u001b[1;33m\u001b[0m\u001b[1;33m\u001b[0m\u001b[0m\n",
      "\u001b[1;32mc:\\users\\bisar\\appdata\\local\\programs\\python\\python37\\lib\\site-packages\\tensorflow_core\\python\\eager\\function.py\u001b[0m in \u001b[0;36m_call_impl\u001b[1;34m(self, args, kwargs, cancellation_manager)\u001b[0m\n\u001b[0;32m   1589\u001b[0m       raise TypeError(\"Keyword arguments {} unknown. Expected {}.\".format(\n\u001b[0;32m   1590\u001b[0m           list(kwargs.keys()), list(self._arg_keywords)))\n\u001b[1;32m-> 1591\u001b[1;33m     \u001b[1;32mreturn\u001b[0m \u001b[0mself\u001b[0m\u001b[1;33m.\u001b[0m\u001b[0m_call_flat\u001b[0m\u001b[1;33m(\u001b[0m\u001b[0margs\u001b[0m\u001b[1;33m,\u001b[0m \u001b[0mself\u001b[0m\u001b[1;33m.\u001b[0m\u001b[0mcaptured_inputs\u001b[0m\u001b[1;33m,\u001b[0m \u001b[0mcancellation_manager\u001b[0m\u001b[1;33m)\u001b[0m\u001b[1;33m\u001b[0m\u001b[1;33m\u001b[0m\u001b[0m\n\u001b[0m\u001b[0;32m   1592\u001b[0m \u001b[1;33m\u001b[0m\u001b[0m\n\u001b[0;32m   1593\u001b[0m   \u001b[1;32mdef\u001b[0m \u001b[0m_filtered_call\u001b[0m\u001b[1;33m(\u001b[0m\u001b[0mself\u001b[0m\u001b[1;33m,\u001b[0m \u001b[0margs\u001b[0m\u001b[1;33m,\u001b[0m \u001b[0mkwargs\u001b[0m\u001b[1;33m)\u001b[0m\u001b[1;33m:\u001b[0m\u001b[1;33m\u001b[0m\u001b[1;33m\u001b[0m\u001b[0m\n",
      "\u001b[1;32mc:\\users\\bisar\\appdata\\local\\programs\\python\\python37\\lib\\site-packages\\tensorflow_core\\python\\eager\\function.py\u001b[0m in \u001b[0;36m_call_flat\u001b[1;34m(self, args, captured_inputs, cancellation_manager)\u001b[0m\n\u001b[0;32m   1690\u001b[0m       \u001b[1;31m# No tape is watching; skip to running the function.\u001b[0m\u001b[1;33m\u001b[0m\u001b[1;33m\u001b[0m\u001b[1;33m\u001b[0m\u001b[0m\n\u001b[0;32m   1691\u001b[0m       return self._build_call_outputs(self._inference_function.call(\n\u001b[1;32m-> 1692\u001b[1;33m           ctx, args, cancellation_manager=cancellation_manager))\n\u001b[0m\u001b[0;32m   1693\u001b[0m     forward_backward = self._select_forward_and_backward_functions(\n\u001b[0;32m   1694\u001b[0m         \u001b[0margs\u001b[0m\u001b[1;33m,\u001b[0m\u001b[1;33m\u001b[0m\u001b[1;33m\u001b[0m\u001b[0m\n",
      "\u001b[1;32mc:\\users\\bisar\\appdata\\local\\programs\\python\\python37\\lib\\site-packages\\tensorflow_core\\python\\eager\\function.py\u001b[0m in \u001b[0;36mcall\u001b[1;34m(self, ctx, args, cancellation_manager)\u001b[0m\n\u001b[0;32m    543\u001b[0m               \u001b[0minputs\u001b[0m\u001b[1;33m=\u001b[0m\u001b[0margs\u001b[0m\u001b[1;33m,\u001b[0m\u001b[1;33m\u001b[0m\u001b[1;33m\u001b[0m\u001b[0m\n\u001b[0;32m    544\u001b[0m               \u001b[0mattrs\u001b[0m\u001b[1;33m=\u001b[0m\u001b[1;33m(\u001b[0m\u001b[1;34m\"executor_type\"\u001b[0m\u001b[1;33m,\u001b[0m \u001b[0mexecutor_type\u001b[0m\u001b[1;33m,\u001b[0m \u001b[1;34m\"config_proto\"\u001b[0m\u001b[1;33m,\u001b[0m \u001b[0mconfig\u001b[0m\u001b[1;33m)\u001b[0m\u001b[1;33m,\u001b[0m\u001b[1;33m\u001b[0m\u001b[1;33m\u001b[0m\u001b[0m\n\u001b[1;32m--> 545\u001b[1;33m               ctx=ctx)\n\u001b[0m\u001b[0;32m    546\u001b[0m         \u001b[1;32melse\u001b[0m\u001b[1;33m:\u001b[0m\u001b[1;33m\u001b[0m\u001b[1;33m\u001b[0m\u001b[0m\n\u001b[0;32m    547\u001b[0m           outputs = execute.execute_with_cancellation(\n",
      "\u001b[1;32mc:\\users\\bisar\\appdata\\local\\programs\\python\\python37\\lib\\site-packages\\tensorflow_core\\python\\eager\\execute.py\u001b[0m in \u001b[0;36mquick_execute\u001b[1;34m(op_name, num_outputs, inputs, attrs, ctx, name)\u001b[0m\n\u001b[0;32m     65\u001b[0m     \u001b[1;32melse\u001b[0m\u001b[1;33m:\u001b[0m\u001b[1;33m\u001b[0m\u001b[1;33m\u001b[0m\u001b[0m\n\u001b[0;32m     66\u001b[0m       \u001b[0mmessage\u001b[0m \u001b[1;33m=\u001b[0m \u001b[0me\u001b[0m\u001b[1;33m.\u001b[0m\u001b[0mmessage\u001b[0m\u001b[1;33m\u001b[0m\u001b[1;33m\u001b[0m\u001b[0m\n\u001b[1;32m---> 67\u001b[1;33m     \u001b[0msix\u001b[0m\u001b[1;33m.\u001b[0m\u001b[0mraise_from\u001b[0m\u001b[1;33m(\u001b[0m\u001b[0mcore\u001b[0m\u001b[1;33m.\u001b[0m\u001b[0m_status_to_exception\u001b[0m\u001b[1;33m(\u001b[0m\u001b[0me\u001b[0m\u001b[1;33m.\u001b[0m\u001b[0mcode\u001b[0m\u001b[1;33m,\u001b[0m \u001b[0mmessage\u001b[0m\u001b[1;33m)\u001b[0m\u001b[1;33m,\u001b[0m \u001b[1;32mNone\u001b[0m\u001b[1;33m)\u001b[0m\u001b[1;33m\u001b[0m\u001b[1;33m\u001b[0m\u001b[0m\n\u001b[0m\u001b[0;32m     68\u001b[0m   \u001b[1;32mexcept\u001b[0m \u001b[0mTypeError\u001b[0m \u001b[1;32mas\u001b[0m \u001b[0me\u001b[0m\u001b[1;33m:\u001b[0m\u001b[1;33m\u001b[0m\u001b[1;33m\u001b[0m\u001b[0m\n\u001b[0;32m     69\u001b[0m     keras_symbolic_tensors = [\n",
      "\u001b[1;32mc:\\users\\bisar\\appdata\\local\\programs\\python\\python37\\lib\\site-packages\\six.py\u001b[0m in \u001b[0;36mraise_from\u001b[1;34m(value, from_value)\u001b[0m\n",
      "\u001b[1;31mUnknownError\u001b[0m:  Failed to get convolution algorithm. This is probably because cuDNN failed to initialize, so try looking to see if a warning log message was printed above.\n\t [[node conv1/convolution (defined at c:\\users\\bisar\\appdata\\local\\programs\\python\\python37\\lib\\site-packages\\keras\\backend\\tensorflow_backend.py:3009) ]] [Op:__inference_keras_scratch_graph_14710]\n\nFunction call stack:\nkeras_scratch_graph\n"
     ]
    }
   ],
   "source": [
    "model = MusicTaggerCRNN(weights=None, input_tensor=network_config['input_shape'])\n",
    "\n",
    "model.compile(loss=network_config['loss'],\n",
    "              optimizer=network_config['optimizer'],\n",
    "              metrics=network_config['metrics'])\n",
    "model.summary()\n",
    "\n",
    "# Training from memory\n",
    "train_val_history = model.fit(x_train,y_train,\n",
    "                              batch_size=network_config['batch_size'],\n",
    "                              epochs=network_config['epochs'],\n",
    "                              validation_data = (x_val, y_val))\n",
    "history_dict = train_val_history.history\n",
    "plot_epocs_graph(history_dict=history_dict,i=17)\n",
    "# model.save(root_folder + 'models/crnn_20.h5')\n",
    "\n",
    "print(f'Testing...')\n",
    "test_op = model.evaluate(x_test,y_test)\n",
    "print('Testing accuracy -> ',test_op)\n",
    "\n"
   ]
  },
  {
   "cell_type": "code",
   "execution_count": null,
   "metadata": {
    "colab": {
     "base_uri": "https://localhost:8080/",
     "height": 933
    },
    "colab_type": "code",
    "id": "LsTF_oZSlZ4v",
    "outputId": "b7711d6e-081c-4fe3-f5f3-ea48542ddc85",
    "pycharm": {
     "is_executing": true
    }
   },
   "outputs": [],
   "source": [
    "from keras.models import load_model\n",
    "from sklearn.metrics import plot_confusion_matrix\n",
    "import seaborn as sn\n",
    "\n",
    "weights_path = root_folder + 'models/crnn_20.h5'\n",
    "model = load_model(weights_path)\n",
    "x_test = (np.load(root_folder + \"npy_files_new/medium/medium/x_test.npy\"))\n",
    "y_test = (np.load(root_folder + \"npy_files_new/medium/medium/y_test.npy\"))\n",
    "y_test = y_test.reshape((y_test.shape[0]*y_test.shape[1],y_test.shape[2]))\n",
    "x_test = x_test.reshape((x_test.shape[0]*x_test.shape[1],x_test.shape[2],x_test.shape[3],x_test.shape[4]))\n",
    "\n",
    "#Confution Matrix and Classification Report\n",
    "Y_pred = model.predict(x_test, batch_size = 128)\n",
    "y_pred = np.argmax(Y_pred, axis=1)\n",
    "print(y_pred.shape)\n",
    "y_test_clasess = np.argmax(y_test, axis=1)\n",
    "print('Confusion Matrix')\n",
    "cm = confusion_matrix(y_test_clasess, y_pred)\n",
    "df_cm = pd.DataFrame(cm, index = [i for i in ['Electronic', 'Folk', 'Rock','Hip-Hop']],\n",
    "                  columns = [i for i in ['Electronic', 'Folk', 'Rock','Hip-Hop']])\n",
    "plt.figure(figsize = (10,7))\n",
    "sn.heatmap(df_cm, annot=True)\n",
    "print('Classification Report')\n",
    "target_names = ['Electronic', 'Folk', 'Rock','Hip-Hop']\n",
    "print(classification_report(y_test_clasess, y_pred, target_names=target_names))"
   ]
  },
  {
   "cell_type": "code",
   "execution_count": null,
   "metadata": {
    "colab": {},
    "colab_type": "code",
    "id": "hXIoDMIzH1ph",
    "pycharm": {
     "is_executing": true
    }
   },
   "outputs": [],
   "source": [
    "'''\n",
    "USE IT FOR FMA SMALL DATASET\n",
    "\n",
    "'''\n",
    "# def pop_layer(model):\n",
    "#     if not model.outputs:\n",
    "#         raise Exception('Sequential model cannot be popped: model is empty.')\n",
    "\n",
    "#     model.layers.pop()\n",
    "#     if not model.layers:\n",
    "#         model.outputs = []\n",
    "#         model.inbound_nodes = []\n",
    "#         model.outbound_nodes = []\n",
    "#     else:\n",
    "#         model.layers[-1].outbound_nodes = []\n",
    "#         model.outputs = [model.layers[-1].output]\n",
    "#     model.built = False\n",
    "\n",
    "\n",
    "# def MusicTaggerCRNN(weights='msd', input_tensor=None):\n",
    "#     '''Instantiate the MusicTaggerCRNN architecture,\n",
    "#     optionally loading weights pre-trained\n",
    "#     on Million Song Dataset. Note that when using TensorFlow,\n",
    "#     for best performance you should set\n",
    "#     `image_dim_ordering=\"tf\"` in your Keras config\n",
    "#     at ~/.keras/keras.json.\n",
    "\n",
    "#     The model and the weights are compatible with both\n",
    "#     TensorFlow and Theano. The dimension ordering\n",
    "#     convention used by the model is the one\n",
    "#     specified in your Keras config file.\n",
    "\n",
    "#     For preparing mel-spectrogram input, see\n",
    "#     `audio_conv_utils.py` in [applications](https://github.com/fchollet/keras/tree/master/keras/applications).\n",
    "#     You will need to install [Librosa](http://librosa.github.io/librosa/)\n",
    "#     to use it.\n",
    "\n",
    "#     # Arguments\n",
    "#         weights: one of `None` (random initialization)\n",
    "#             or \"msd\" (pre-training on ImageNet).\n",
    "#         input_tensor: optional Keras tensor (i.e. output of `layers.Input()`)\n",
    "#             to use as image input for the model.\n",
    "#     # Returns\n",
    "#         A Keras model instance.\n",
    "#     '''\n",
    "\n",
    "#     K.set_image_data_format('channels_first')\n",
    "#     if weights not in {'msd', None}:\n",
    "#         raise ValueError('The `weights` argument should be either '\n",
    "#                          '`None` (random initialization) or `msd` '\n",
    "#                          '(pre-training on Million Song Dataset).')\n",
    "\n",
    "#     # Determine proper input shape\n",
    "#     if K.image_data_format() == 'channels_first':\n",
    "#         input_shape = (1, 96, 1366)\n",
    "#     else:\n",
    "#         input_shape = (96, 1366, 1)\n",
    "\n",
    "#     if input_tensor is None:\n",
    "#         melgram_input = layers.Input(shape=input_shape)\n",
    "#     else:\n",
    "#         melgram_input = layers.Input(shape=input_tensor)\n",
    "\n",
    "#     # Determine input axis\n",
    "#     if K.image_data_format() == 'channels_first':\n",
    "#         channel_axis = 1\n",
    "#         freq_axis = 2\n",
    "#         time_axis = 3\n",
    "#     else:\n",
    "#         channel_axis = 3\n",
    "#         freq_axis = 1\n",
    "#         time_axis = 2\n",
    "\n",
    "#     # Input block\n",
    "#     # x = layers.ZeroPadding2D(padding=(0, 37))(melgram_input)\n",
    "#     # x = layers.BatchNormalization(axis=time_axis, name='bn_0_freq')(x)\n",
    "\n",
    "#     # Conv block 1\n",
    "#     x = layers.Convolution2D(16,(2, 2), border_mode='same', name='conv1',activation= 'selu', trainable=True,kernel_initializer='lecun_normal')(melgram_input)\n",
    "#     x = layers.BatchNormalization(axis=channel_axis, mode=0, name='bn1', trainable=True)(x)\n",
    "#     # x = layers.ReLU()(x)\n",
    "#     x = layers.MaxPooling2D(pool_size=(4, 4), strides=(4, 4), name='pool1')(x)\n",
    "#     x = layers.AlphaDropout(0.1, name='dropout1', trainable=True)(x)\n",
    "\n",
    "#     # Conv block 2\n",
    "#     x = layers.Convolution2D(32,(2, 2), border_mode='same', name='conv2',activation= 'selu', trainable=True,kernel_initializer='lecun_normal')(x)\n",
    "#     x = layers.BatchNormalization(axis=channel_axis, mode=0, name='bn2', trainable=True)(x)\n",
    "#     # x = layers.ReLU()(x)\n",
    "#     x = layers.MaxPooling2D(pool_size=(2, 2), strides=(2, 2), name='pool2')(x)\n",
    "#     x = layers.AlphaDropout(0.1, name='dropout2', trainable=True)(x)\n",
    "\n",
    "#     # # Conv block 3\n",
    "#     x = layers.Convolution2D(32,(3, 3), border_mode='same', name='conv3',activation= 'selu', trainable=True, kernel_initializer='lecun_normal')(x)\n",
    "#     x = layers.BatchNormalization(axis=channel_axis, mode=0, name='bn3', trainable=True)(x)\n",
    "#     # x = layers.ReLU()(x)\n",
    "#     x = layers.MaxPooling2D(pool_size=(2, 2), strides=(2, 2), name='pool3')(x)\n",
    "#     x = layers.AlphaDropout(0.1, name='dropout3', trainable=True)(x)\n",
    "    \n",
    "#     # model = models.Model(melgram_input, x)\n",
    "#     # model.summary()\n",
    "\n",
    "#     # # Conv block 4\n",
    "#     # x = layers.Convolution2D(16,( 4, 4), border_mode='same', name='conv4',activation= 'selu', trainable=True, kernel_initializer='lecun_normal')(x)\n",
    "#     # x = layers.BatchNormalization(axis=channel_axis, mode=0, name='bn4', trainable=True)(x)\n",
    "#     # # x = layers.ELU()(x)\n",
    "#     # x = layers.MaxPooling2D(pool_size=(2, 2), strides=(2, 2), name='pool4')(x)\n",
    "#     # x = layers.Dropout(0.1, name='dropout4', trainable=True)(x)\n",
    "\n",
    "#     # reshaping\n",
    "#     if K.image_data_format() == 'channels_first':\n",
    "#         x = layers.Permute((3, 1, 2))(x)\n",
    "#     # print(f'permute size -> {x.shape}')\n",
    "#     shape = x.get_shape().as_list()\n",
    "#     x = layers.Reshape((shape[1]*shape[-1],shape[2]))(x)\n",
    "\n",
    "#     # GRU block 1, 2, output\n",
    "#     x = layers.GRU(8, return_sequences=True, name='gru1')(x)\n",
    "#     x = layers.GRU(8, return_sequences=False, name='gru2')(x)\n",
    "#     x = layers.AlphaDropout(0.3, name='final_drop')(x)\n",
    "\n",
    "#     ## LSTM Layer\n",
    "#     # layer = LSTM(96,return_sequences=False)(x)\n",
    "#     # x = Dropout(0.4)(layer)\n",
    "#     # print(f'lstm layer -> {layer.shape}')\n",
    "\n",
    "#     if weights is None:\n",
    "#         # x = layers.Flatten()(x)\n",
    "#         x = layers.Dense(128, activation='relu', name='hidden1')(x)\n",
    "#         x = layers.Dense(4, activation='softmax', name='output')(x)\n",
    "#         print(f'x.shape -> {x.shape}')\n",
    "\n",
    "#         model = models.Model(melgram_input, x)\n",
    "#         # model.summary()\n",
    "#         return model\n",
    "#         # return x\n",
    "#     else:\n",
    "#         # Load input\n",
    "#         x = layers.Dense(10, activation='sigmoid', name='output')(x)\n",
    "#         if K.image_data_format() == 'channels_last':\n",
    "#             raise RuntimeError(\"Please set image_dim_ordering == 'th'.\"\n",
    "#                                \"You can set it at ~/.keras/keras.json\")\n",
    "#         # Create model\n",
    "#         initial_model = models.Model(melgram_input, x)\n",
    "#         initial_model.load_weights('/content/crnn_net_gru_adam_ours_epoch_40.h5')\n",
    "\n",
    "#         # Eliminate last layer\n",
    "#         pop_layer(initial_model)\n",
    "#         pop_layer(initial_model)\n",
    "#         # Add new Dense layer\n",
    "#         last = initial_model.get_layer('gru2')\n",
    "#         preds = layers.Dense(4, activation='sigmoid', name='preds')(last.output)\n",
    "#         model = models.Model(initial_model.input, preds)\n",
    "\n",
    "#         # TO extend this model use this,\n",
    "#         # model = Model(initial_model.input, initial_model.get_layer('dropout2').output)\n",
    "\n",
    "#         return model"
   ]
  }
 ],
 "metadata": {
  "accelerator": "GPU",
  "colab": {
   "collapsed_sections": [],
   "machine_shape": "hm",
   "name": "cnn_model_using_npy.ipynb",
   "provenance": []
  },
  "kernelspec": {
   "display_name": "Python 3",
   "language": "python",
   "name": "python3"
  },
  "language_info": {
   "codemirror_mode": {
    "name": "ipython",
    "version": 3
   },
   "file_extension": ".py",
   "mimetype": "text/x-python",
   "name": "python",
   "nbconvert_exporter": "python",
   "pygments_lexer": "ipython3",
   "version": "3.7.6rc1"
  },
  "pycharm": {
   "stem_cell": {
    "cell_type": "raw",
    "metadata": {
     "collapsed": false
    },
    "source": []
   }
  }
 },
 "nbformat": 4,
 "nbformat_minor": 1
}
